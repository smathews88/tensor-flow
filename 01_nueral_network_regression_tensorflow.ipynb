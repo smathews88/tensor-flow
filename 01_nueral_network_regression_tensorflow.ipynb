{
  "nbformat": 4,
  "nbformat_minor": 0,
  "metadata": {
    "colab": {
      "provenance": [],
      "mount_file_id": "1JCKG_caUVXvscO0QczYM5qLbpcw-J3z_",
      "authorship_tag": "ABX9TyPaZVUzDT/KX6EOKa4LRlbT",
      "include_colab_link": true
    },
    "kernelspec": {
      "name": "python3",
      "display_name": "Python 3"
    },
    "language_info": {
      "name": "python"
    }
  },
  "cells": [
    {
      "cell_type": "markdown",
      "metadata": {
        "id": "view-in-github",
        "colab_type": "text"
      },
      "source": [
        "<a href=\"https://colab.research.google.com/github/smathews88/tensor-flow/blob/main/01_nueral_network_regression_tensorflow.ipynb\" target=\"_parent\"><img src=\"https://colab.research.google.com/assets/colab-badge.svg\" alt=\"Open In Colab\"/></a>"
      ]
    },
    {
      "cell_type": "markdown",
      "source": [
        "# Regression with Tensorflow\n",
        "\n",
        "Regression is predicting a value/number from a combination of input variables/features."
      ],
      "metadata": {
        "id": "a3lsyZksdUa_"
      }
    },
    {
      "cell_type": "code",
      "source": [
        "import tensorflow as tf;\n",
        "print(tf.__version__)"
      ],
      "metadata": {
        "colab": {
          "base_uri": "https://localhost:8080/"
        },
        "id": "dnTL-ywedwrU",
        "outputId": "0a37c213-9ec2-48dc-941f-d7af5a8826bd"
      },
      "execution_count": null,
      "outputs": [
        {
          "output_type": "stream",
          "name": "stdout",
          "text": [
            "2.15.0\n"
          ]
        }
      ]
    },
    {
      "cell_type": "markdown",
      "source": [
        "# Creating data for view and fit"
      ],
      "metadata": {
        "id": "J-W0JoK_d-Sd"
      }
    },
    {
      "cell_type": "code",
      "source": [
        "import numpy as np\n",
        "import matplotlib.pyplot as plt\n",
        "#create feature\n",
        "X = np.array([-7.,-4.,-1., 2., 5., 8.,11.,14.], dtype = np.float32)\n",
        "#create label\n",
        "y = np.array([3.,6.,9.,12., 15., 18.,21.,24.], dtype = np.float32)"
      ],
      "metadata": {
        "id": "Hawp8JkaeBRU"
      },
      "execution_count": null,
      "outputs": []
    },
    {
      "cell_type": "code",
      "source": [
        "#visualize relationship\n",
        "plt.scatter(X,y)"
      ],
      "metadata": {
        "colab": {
          "base_uri": "https://localhost:8080/",
          "height": 450
        },
        "id": "iFs7ANghff2x",
        "outputId": "ddd38f3c-2fd6-4f23-a498-a5d1f9785de2"
      },
      "execution_count": null,
      "outputs": [
        {
          "output_type": "execute_result",
          "data": {
            "text/plain": [
              "<matplotlib.collections.PathCollection at 0x7eabe6ebad40>"
            ]
          },
          "metadata": {},
          "execution_count": 6
        },
        {
          "output_type": "display_data",
          "data": {
            "text/plain": [
              "<Figure size 640x480 with 1 Axes>"
            ],
            "image/png": "[encoded data removed]"
          },
          "metadata": {}
        }
      ]
    },
    {
      "cell_type": "code",
      "source": [
        "#Relationship between X and y\n",
        "X + 10 , y == X+10"
      ],
      "metadata": {
        "colab": {
          "base_uri": "https://localhost:8080/"
        },
        "id": "tJK4EUsOf3cy",
        "outputId": "6404cde4-ac8d-4d9f-ebd8-244f1b90616f"
      },
      "execution_count": null,
      "outputs": [
        {
          "output_type": "execute_result",
          "data": {
            "text/plain": [
              "(array([ 3.,  6.,  9., 12., 15., 18., 21., 24.], dtype=float32),\n",
              " array([ True,  True,  True,  True,  True,  True,  True,  True]))"
            ]
          },
          "metadata": {},
          "execution_count": 7
        }
      ]
    },
    {
      "cell_type": "code",
      "source": [
        "input_shape = X[0].shape\n",
        "output_shape = y[0].shape\n",
        "input_shape, output_shape ,X[0], y[0]"
      ],
      "metadata": {
        "colab": {
          "base_uri": "https://localhost:8080/"
        },
        "id": "rLnn1Hgom5ZM",
        "outputId": "3a14387b-b90b-4021-de21-0f32cca331d2"
      },
      "execution_count": null,
      "outputs": [
        {
          "output_type": "execute_result",
          "data": {
            "text/plain": [
              "((), (), -7.0, 3.0)"
            ]
          },
          "metadata": {},
          "execution_count": 8
        }
      ]
    },
    {
      "cell_type": "code",
      "source": [
        "X = tf.constant(X)\n",
        "y = tf.constant(y)\n",
        "X,y"
      ],
      "metadata": {
        "colab": {
          "base_uri": "https://localhost:8080/"
        },
        "id": "Tq3lstKioG_4",
        "outputId": "ac8095c9-151e-4c83-821a-7d829109f2d5"
      },
      "execution_count": null,
      "outputs": [
        {
          "output_type": "execute_result",
          "data": {
            "text/plain": [
              "(<tf.Tensor: shape=(8,), dtype=float32, numpy=array([-7., -4., -1.,  2.,  5.,  8., 11., 14.], dtype=float32)>,\n",
              " <tf.Tensor: shape=(8,), dtype=float32, numpy=array([ 3.,  6.,  9., 12., 15., 18., 21., 24.], dtype=float32)>)"
            ]
          },
          "metadata": {},
          "execution_count": 9
        }
      ]
    },
    {
      "cell_type": "markdown",
      "source": [
        "# Steps in creating a Model with Tensorflow\n",
        "1. Create a Model\n",
        "2. Compile a Model\n",
        "3. Fit a Model"
      ],
      "metadata": {
        "id": "-loFCnJ7gBQH"
      }
    },
    {
      "cell_type": "code",
      "source": [
        "#Create a model\n",
        "tf.random.set_seed(42)\n",
        "model = tf.keras.models.Sequential([\n",
        "    tf.keras.layers.Input(shape=(1,)),\n",
        "    tf.keras.layers.Dense(1)\n",
        "])\n",
        "#Compile model\n",
        "model.compile (loss = tf.keras.losses.mae ,\n",
        "               optimizer = tf.keras.optimizers.SGD(),\n",
        "               metrics = [\"mae\"])\n",
        "\n",
        "#Fit model\n",
        "#create feature\n",
        "X = np.array([-7.,-4.,-1., 2., 5., 8.,11.,14.], dtype = np.float32)\n",
        "#create label\n",
        "y = np.array([3.,6.,9.,12., 15., 18.,21.,24.], dtype = np.float32)\n",
        "model.fit(X , y , epochs = 5)\n",
        "model.predict([17.])"
      ],
      "metadata": {
        "colab": {
          "base_uri": "https://localhost:8080/"
        },
        "id": "zvaBG75EcdyW",
        "outputId": "80e25c78-4fd4-45a6-884d-c2f8e5ef7b44"
      },
      "execution_count": null,
      "outputs": [
        {
          "output_type": "stream",
          "name": "stdout",
          "text": [
            "Epoch 1/5\n",
            "1/1 [==============================] - 0s 451ms/step - loss: 10.5883 - mae: 10.5883\n",
            "Epoch 2/5\n",
            "1/1 [==============================] - 0s 11ms/step - loss: 10.4558 - mae: 10.4558\n",
            "Epoch 3/5\n",
            "1/1 [==============================] - 0s 12ms/step - loss: 10.3233 - mae: 10.3233\n",
            "Epoch 4/5\n",
            "1/1 [==============================] - 0s 12ms/step - loss: 10.1908 - mae: 10.1908\n",
            "Epoch 5/5\n",
            "1/1 [==============================] - 0s 13ms/step - loss: 10.0583 - mae: 10.0583\n",
            "1/1 [==============================] - 0s 103ms/step\n"
          ]
        },
        {
          "output_type": "execute_result",
          "data": {
            "text/plain": [
              "array([[17.167362]], dtype=float32)"
            ]
          },
          "metadata": {},
          "execution_count": 10
        }
      ]
    },
    {
      "cell_type": "markdown",
      "source": [
        "# Improve Model"
      ],
      "metadata": {
        "id": "GkfdrxSs4sGm"
      }
    },
    {
      "cell_type": "code",
      "source": [
        "#Create a model\n",
        "tf.random.set_seed(42)\n",
        "model = tf.keras.models.Sequential([\n",
        "    tf.keras.layers.Input(shape=(1,)),\n",
        "    tf.keras.layers.Dense(30, activation = \"relu\"),\n",
        "    tf.keras.layers.Dense(30, activation = None),\n",
        "    tf.keras.layers.Dense(30, activation = None),\n",
        "    tf.keras.layers.Dense(1)\n",
        "])\n",
        "#Compile model\n",
        "model.compile (loss = tf.keras.losses.mae ,\n",
        "               optimizer = tf.keras.optimizers.Adam(learning_rate=0.01),\n",
        "               metrics = [\"mae\"])\n",
        "\n",
        "#Fit model\n",
        "model.fit(X , y , epochs = 100)"
      ],
      "metadata": {
        "colab": {
          "base_uri": "https://localhost:8080/"
        },
        "id": "UoLFuGn0dJQK",
        "outputId": "ab478d8b-fb3a-44f6-dc61-066b47842bc4"
      },
      "execution_count": null,
      "outputs": [
        {
          "output_type": "stream",
          "name": "stdout",
          "text": [
            "Epoch 1/100\n",
            "1/1 [==============================] - 1s 1s/step - loss: 14.9107 - mae: 14.9107\n",
            "Epoch 2/100\n",
            "1/1 [==============================] - 0s 16ms/step - loss: 11.0766 - mae: 11.0766\n",
            "Epoch 3/100\n",
            "1/1 [==============================] - 0s 16ms/step - loss: 7.8629 - mae: 7.8629\n",
            "Epoch 4/100\n",
            "1/1 [==============================] - 0s 14ms/step - loss: 4.4399 - mae: 4.4399\n",
            "Epoch 5/100\n",
            "1/1 [==============================] - 0s 14ms/step - loss: 5.0935 - mae: 5.0935\n",
            "Epoch 6/100\n",
            "1/1 [==============================] - 0s 20ms/step - loss: 6.3543 - mae: 6.3543\n",
            "Epoch 7/100\n",
            "1/1 [==============================] - 0s 12ms/step - loss: 6.5518 - mae: 6.5518\n",
            "Epoch 8/100\n",
            "1/1 [==============================] - 0s 10ms/step - loss: 5.5723 - mae: 5.5723\n",
            "Epoch 9/100\n",
            "1/1 [==============================] - 0s 11ms/step - loss: 4.2369 - mae: 4.2369\n",
            "Epoch 10/100\n",
            "1/1 [==============================] - 0s 12ms/step - loss: 3.7641 - mae: 3.7641\n",
            "Epoch 11/100\n",
            "1/1 [==============================] - 0s 12ms/step - loss: 5.2545 - mae: 5.2545\n",
            "Epoch 12/100\n",
            "1/1 [==============================] - 0s 15ms/step - loss: 5.4178 - mae: 5.4178\n",
            "Epoch 13/100\n",
            "1/1 [==============================] - 0s 11ms/step - loss: 4.8361 - mae: 4.8361\n",
            "Epoch 14/100\n",
            "1/1 [==============================] - 0s 13ms/step - loss: 3.6306 - mae: 3.6306\n",
            "Epoch 15/100\n",
            "1/1 [==============================] - 0s 16ms/step - loss: 3.4305 - mae: 3.4305\n",
            "Epoch 16/100\n",
            "1/1 [==============================] - 0s 14ms/step - loss: 3.6408 - mae: 3.6408\n",
            "Epoch 17/100\n",
            "1/1 [==============================] - 0s 12ms/step - loss: 3.8203 - mae: 3.8203\n",
            "Epoch 18/100\n",
            "1/1 [==============================] - 0s 14ms/step - loss: 3.6645 - mae: 3.6645\n",
            "Epoch 19/100\n",
            "1/1 [==============================] - 0s 14ms/step - loss: 3.2860 - mae: 3.2860\n",
            "Epoch 20/100\n",
            "1/1 [==============================] - 0s 20ms/step - loss: 3.0602 - mae: 3.0602\n",
            "Epoch 21/100\n",
            "1/1 [==============================] - 0s 15ms/step - loss: 2.9461 - mae: 2.9461\n",
            "Epoch 22/100\n",
            "1/1 [==============================] - 0s 12ms/step - loss: 2.9137 - mae: 2.9137\n",
            "Epoch 23/100\n",
            "1/1 [==============================] - 0s 11ms/step - loss: 2.8581 - mae: 2.8581\n",
            "Epoch 24/100\n",
            "1/1 [==============================] - 0s 13ms/step - loss: 2.7147 - mae: 2.7147\n",
            "Epoch 25/100\n",
            "1/1 [==============================] - 0s 10ms/step - loss: 2.5298 - mae: 2.5298\n",
            "Epoch 26/100\n",
            "1/1 [==============================] - 0s 10ms/step - loss: 2.4607 - mae: 2.4607\n",
            "Epoch 27/100\n",
            "1/1 [==============================] - 0s 11ms/step - loss: 2.3667 - mae: 2.3667\n",
            "Epoch 28/100\n",
            "1/1 [==============================] - 0s 10ms/step - loss: 2.2354 - mae: 2.2354\n",
            "Epoch 29/100\n",
            "1/1 [==============================] - 0s 10ms/step - loss: 2.0861 - mae: 2.0861\n",
            "Epoch 30/100\n",
            "1/1 [==============================] - 0s 12ms/step - loss: 1.9041 - mae: 1.9041\n",
            "Epoch 31/100\n",
            "1/1 [==============================] - 0s 10ms/step - loss: 1.8817 - mae: 1.8817\n",
            "Epoch 32/100\n",
            "1/1 [==============================] - 0s 12ms/step - loss: 1.7376 - mae: 1.7376\n",
            "Epoch 33/100\n",
            "1/1 [==============================] - 0s 11ms/step - loss: 1.4529 - mae: 1.4529\n",
            "Epoch 34/100\n",
            "1/1 [==============================] - 0s 12ms/step - loss: 1.4249 - mae: 1.4249\n",
            "Epoch 35/100\n",
            "1/1 [==============================] - 0s 13ms/step - loss: 1.4341 - mae: 1.4341\n",
            "Epoch 36/100\n",
            "1/1 [==============================] - 0s 15ms/step - loss: 1.0799 - mae: 1.0799\n",
            "Epoch 37/100\n",
            "1/1 [==============================] - 0s 15ms/step - loss: 0.9248 - mae: 0.9248\n",
            "Epoch 38/100\n",
            "1/1 [==============================] - 0s 12ms/step - loss: 1.2141 - mae: 1.2141\n",
            "Epoch 39/100\n",
            "1/1 [==============================] - 0s 14ms/step - loss: 0.5803 - mae: 0.5803\n",
            "Epoch 40/100\n",
            "1/1 [==============================] - 0s 13ms/step - loss: 1.1638 - mae: 1.1638\n",
            "Epoch 41/100\n",
            "1/1 [==============================] - 0s 13ms/step - loss: 1.2593 - mae: 1.2593\n",
            "Epoch 42/100\n",
            "1/1 [==============================] - 0s 12ms/step - loss: 0.4504 - mae: 0.4504\n",
            "Epoch 43/100\n",
            "1/1 [==============================] - 0s 14ms/step - loss: 0.6167 - mae: 0.6167\n",
            "Epoch 44/100\n",
            "1/1 [==============================] - 0s 13ms/step - loss: 0.7224 - mae: 0.7224\n",
            "Epoch 45/100\n",
            "1/1 [==============================] - 0s 15ms/step - loss: 0.3535 - mae: 0.3535\n",
            "Epoch 46/100\n",
            "1/1 [==============================] - 0s 11ms/step - loss: 0.6566 - mae: 0.6566\n",
            "Epoch 47/100\n",
            "1/1 [==============================] - 0s 11ms/step - loss: 0.4040 - mae: 0.4040\n",
            "Epoch 48/100\n",
            "1/1 [==============================] - 0s 14ms/step - loss: 0.2593 - mae: 0.2593\n",
            "Epoch 49/100\n",
            "1/1 [==============================] - 0s 14ms/step - loss: 0.6655 - mae: 0.6655\n",
            "Epoch 50/100\n",
            "1/1 [==============================] - 0s 16ms/step - loss: 0.4095 - mae: 0.4095\n",
            "Epoch 51/100\n",
            "1/1 [==============================] - 0s 12ms/step - loss: 0.4308 - mae: 0.4308\n",
            "Epoch 52/100\n",
            "1/1 [==============================] - 0s 10ms/step - loss: 0.4853 - mae: 0.4853\n",
            "Epoch 53/100\n",
            "1/1 [==============================] - 0s 10ms/step - loss: 0.4045 - mae: 0.4045\n",
            "Epoch 54/100\n",
            "1/1 [==============================] - 0s 12ms/step - loss: 0.5955 - mae: 0.5955\n",
            "Epoch 55/100\n",
            "1/1 [==============================] - 0s 14ms/step - loss: 0.4910 - mae: 0.4910\n",
            "Epoch 56/100\n",
            "1/1 [==============================] - 0s 12ms/step - loss: 0.4150 - mae: 0.4150\n",
            "Epoch 57/100\n",
            "1/1 [==============================] - 0s 16ms/step - loss: 0.6574 - mae: 0.6574\n",
            "Epoch 58/100\n",
            "1/1 [==============================] - 0s 10ms/step - loss: 0.4112 - mae: 0.4112\n",
            "Epoch 59/100\n",
            "1/1 [==============================] - 0s 13ms/step - loss: 0.5502 - mae: 0.5502\n",
            "Epoch 60/100\n",
            "1/1 [==============================] - 0s 13ms/step - loss: 0.8140 - mae: 0.8140\n",
            "Epoch 61/100\n",
            "1/1 [==============================] - 0s 13ms/step - loss: 0.5893 - mae: 0.5893\n",
            "Epoch 62/100\n",
            "1/1 [==============================] - 0s 12ms/step - loss: 0.8877 - mae: 0.8877\n",
            "Epoch 63/100\n",
            "1/1 [==============================] - 0s 12ms/step - loss: 0.6813 - mae: 0.6813\n",
            "Epoch 64/100\n",
            "1/1 [==============================] - 0s 12ms/step - loss: 0.2350 - mae: 0.2350\n",
            "Epoch 65/100\n",
            "1/1 [==============================] - 0s 13ms/step - loss: 0.6307 - mae: 0.6307\n",
            "Epoch 66/100\n",
            "1/1 [==============================] - 0s 14ms/step - loss: 0.3746 - mae: 0.3746\n",
            "Epoch 67/100\n",
            "1/1 [==============================] - 0s 13ms/step - loss: 0.1363 - mae: 0.1363\n",
            "Epoch 68/100\n",
            "1/1 [==============================] - 0s 12ms/step - loss: 0.6358 - mae: 0.6358\n",
            "Epoch 69/100\n",
            "1/1 [==============================] - 0s 11ms/step - loss: 0.5005 - mae: 0.5005\n",
            "Epoch 70/100\n",
            "1/1 [==============================] - 0s 13ms/step - loss: 0.4161 - mae: 0.4161\n",
            "Epoch 71/100\n",
            "1/1 [==============================] - 0s 15ms/step - loss: 0.4760 - mae: 0.4760\n",
            "Epoch 72/100\n",
            "1/1 [==============================] - 0s 11ms/step - loss: 0.2111 - mae: 0.2111\n",
            "Epoch 73/100\n",
            "1/1 [==============================] - 0s 12ms/step - loss: 0.2718 - mae: 0.2718\n",
            "Epoch 74/100\n",
            "1/1 [==============================] - 0s 11ms/step - loss: 0.3467 - mae: 0.3467\n",
            "Epoch 75/100\n",
            "1/1 [==============================] - 0s 14ms/step - loss: 0.3218 - mae: 0.3218\n",
            "Epoch 76/100\n",
            "1/1 [==============================] - 0s 13ms/step - loss: 0.2206 - mae: 0.2206\n",
            "Epoch 77/100\n",
            "1/1 [==============================] - 0s 10ms/step - loss: 0.5760 - mae: 0.5760\n",
            "Epoch 78/100\n",
            "1/1 [==============================] - 0s 13ms/step - loss: 0.5570 - mae: 0.5570\n",
            "Epoch 79/100\n",
            "1/1 [==============================] - 0s 12ms/step - loss: 0.4925 - mae: 0.4925\n",
            "Epoch 80/100\n",
            "1/1 [==============================] - 0s 13ms/step - loss: 0.4893 - mae: 0.4893\n",
            "Epoch 81/100\n",
            "1/1 [==============================] - 0s 13ms/step - loss: 0.1580 - mae: 0.1580\n",
            "Epoch 82/100\n",
            "1/1 [==============================] - 0s 14ms/step - loss: 0.6802 - mae: 0.6802\n",
            "Epoch 83/100\n",
            "1/1 [==============================] - 0s 14ms/step - loss: 0.6481 - mae: 0.6481\n",
            "Epoch 84/100\n",
            "1/1 [==============================] - 0s 12ms/step - loss: 0.2075 - mae: 0.2075\n",
            "Epoch 85/100\n",
            "1/1 [==============================] - 0s 13ms/step - loss: 0.9663 - mae: 0.9663\n",
            "Epoch 86/100\n",
            "1/1 [==============================] - 0s 14ms/step - loss: 1.3332 - mae: 1.3332\n",
            "Epoch 87/100\n",
            "1/1 [==============================] - 0s 12ms/step - loss: 1.2127 - mae: 1.2127\n",
            "Epoch 88/100\n",
            "1/1 [==============================] - 0s 16ms/step - loss: 0.6198 - mae: 0.6198\n",
            "Epoch 89/100\n",
            "1/1 [==============================] - 0s 11ms/step - loss: 0.4997 - mae: 0.4997\n",
            "Epoch 90/100\n",
            "1/1 [==============================] - 0s 13ms/step - loss: 0.9079 - mae: 0.9079\n",
            "Epoch 91/100\n",
            "1/1 [==============================] - 0s 14ms/step - loss: 0.7571 - mae: 0.7571\n",
            "Epoch 92/100\n",
            "1/1 [==============================] - 0s 20ms/step - loss: 0.1239 - mae: 0.1239\n",
            "Epoch 93/100\n",
            "1/1 [==============================] - 0s 15ms/step - loss: 0.2480 - mae: 0.2480\n",
            "Epoch 94/100\n",
            "1/1 [==============================] - 0s 13ms/step - loss: 0.0974 - mae: 0.0974\n",
            "Epoch 95/100\n",
            "1/1 [==============================] - 0s 12ms/step - loss: 0.0648 - mae: 0.0648\n",
            "Epoch 96/100\n",
            "1/1 [==============================] - 0s 15ms/step - loss: 0.1461 - mae: 0.1461\n",
            "Epoch 97/100\n",
            "1/1 [==============================] - 0s 12ms/step - loss: 0.2367 - mae: 0.2367\n",
            "Epoch 98/100\n",
            "1/1 [==============================] - 0s 11ms/step - loss: 0.0627 - mae: 0.0627\n",
            "Epoch 99/100\n",
            "1/1 [==============================] - 0s 16ms/step - loss: 0.0673 - mae: 0.0673\n",
            "Epoch 100/100\n",
            "1/1 [==============================] - 0s 13ms/step - loss: 0.4431 - mae: 0.4431\n"
          ]
        },
        {
          "output_type": "execute_result",
          "data": {
            "text/plain": [
              "<keras.src.callbacks.History at 0x7eabe129b280>"
            ]
          },
          "metadata": {},
          "execution_count": 11
        }
      ]
    },
    {
      "cell_type": "code",
      "source": [
        "X, y"
      ],
      "metadata": {
        "colab": {
          "base_uri": "https://localhost:8080/"
        },
        "id": "47JyBmZVjKMn",
        "outputId": "8812b53e-91b3-4b98-8a9e-306eee93cd92"
      },
      "execution_count": null,
      "outputs": [
        {
          "output_type": "execute_result",
          "data": {
            "text/plain": [
              "(array([-7., -4., -1.,  2.,  5.,  8., 11., 14.], dtype=float32),\n",
              " array([ 3.,  6.,  9., 12., 15., 18., 21., 24.], dtype=float32))"
            ]
          },
          "metadata": {},
          "execution_count": 12
        }
      ]
    },
    {
      "cell_type": "code",
      "source": [
        "#Predict using model\n",
        "y_pred = model.predict([20.])\n",
        "y_pred"
      ],
      "metadata": {
        "colab": {
          "base_uri": "https://localhost:8080/"
        },
        "id": "kZk0VoHAjgeD",
        "outputId": "dde0318b-6ad7-4cae-aaf7-78ed62a163c8"
      },
      "execution_count": null,
      "outputs": [
        {
          "output_type": "stream",
          "name": "stdout",
          "text": [
            "1/1 [==============================] - 0s 150ms/step\n"
          ]
        },
        {
          "output_type": "execute_result",
          "data": {
            "text/plain": [
              "array([[29.330055]], dtype=float32)"
            ]
          },
          "metadata": {},
          "execution_count": 13
        }
      ]
    },
    {
      "cell_type": "markdown",
      "source": [
        "# Ways to improve a model\n",
        "\n",
        "1.   Change the number of hidden layers\n",
        "2.   Change the number of nodes in hidden layers\n",
        "1.   Change the activation function\n",
        "2.   Change the optimizer function\n",
        "1.   Change learning rate\n",
        "2.   Training with more data\n",
        "1.   Change the loss function\n",
        "2.   Change number of epochs\n",
        "\n",
        "\n"
      ],
      "metadata": {
        "id": "IeAd5mbD9Kuq"
      }
    },
    {
      "cell_type": "markdown",
      "source": [
        "# Evaluating Model"
      ],
      "metadata": {
        "id": "MyjzSrHdAQCv"
      }
    },
    {
      "cell_type": "code",
      "source": [
        "X = tf.range(-200,200,2)\n",
        "y = X + 10\n",
        "plt.scatter(X,y)"
      ],
      "metadata": {
        "colab": {
          "base_uri": "https://localhost:8080/",
          "height": 445
        },
        "id": "Kq2gGzW77GlZ",
        "outputId": "30ce622b-b102-4fd3-ed45-516975148c8b"
      },
      "execution_count": null,
      "outputs": [
        {
          "output_type": "execute_result",
          "data": {
            "text/plain": [
              "<matplotlib.collections.PathCollection at 0x7eabe252b1c0>"
            ]
          },
          "metadata": {},
          "execution_count": 14
        },
        {
          "output_type": "display_data",
          "data": {
            "text/plain": [
              "<Figure size 640x480 with 1 Axes>"
            ],
            "image/png": "[encoded data removed]"
          },
          "metadata": {}
        }
      ]
    },
    {
      "cell_type": "markdown",
      "source": [
        "**3 Sets**\n",
        "\n",
        "\n",
        "1.   Training Set - data which is used to train the model - 70% - 80%\n",
        "2.   Validation Set - data which is used to tune the model - 10% - 15%\n",
        "1.   Test Set - data which is used to test the model - 10% - 15%\n",
        "\n",
        "\n",
        "\n"
      ],
      "metadata": {
        "id": "l7vCy7E3BYC1"
      }
    },
    {
      "cell_type": "markdown",
      "source": [
        "# Create a regression model"
      ],
      "metadata": {
        "id": "xZSaynapen6F"
      }
    },
    {
      "cell_type": "markdown",
      "source": [
        "# Pre-processing data\n"
      ],
      "metadata": {
        "id": "0LFweMqLHu8h"
      }
    },
    {
      "cell_type": "code",
      "source": [
        "X_train = X[:160]\n",
        "y_train = y[:160]\n",
        "X_test = X[160:180]\n",
        "y_test = y[160:180]\n",
        "X_val = X[180:]\n",
        "y_val = y[180:]\n",
        "X_train.shape, y_train.shape , X_test.shape, y_test.shape, X_val.shape, y_val.shape"
      ],
      "metadata": {
        "colab": {
          "base_uri": "https://localhost:8080/"
        },
        "id": "080ZTzJyxADX",
        "outputId": "fe2b47c8-b160-4188-bbf1-fb67100f1f0b"
      },
      "execution_count": null,
      "outputs": [
        {
          "output_type": "execute_result",
          "data": {
            "text/plain": [
              "(TensorShape([160]),\n",
              " TensorShape([160]),\n",
              " TensorShape([20]),\n",
              " TensorShape([20]),\n",
              " TensorShape([20]),\n",
              " TensorShape([20]))"
            ]
          },
          "metadata": {},
          "execution_count": 15
        }
      ]
    },
    {
      "cell_type": "markdown",
      "source": [
        "# Visualize data"
      ],
      "metadata": {
        "id": "wdB9ipBb98Nk"
      }
    },
    {
      "cell_type": "code",
      "source": [
        "#visualize the deviation of predicted y value from actual y value\n",
        "plt.figure(figsize = (10,10))\n",
        "plt.scatter(X_train, y_train, c=\"orange\",label=\"Training data\")\n",
        "plt.scatter(X_val, y_val, c=\"green\",label=\"Validating data\")\n",
        "plt.scatter(X_test, y_test, c=\"blue\",label=\"Testing data\")\n",
        "plt.legend()"
      ],
      "metadata": {
        "colab": {
          "base_uri": "https://localhost:8080/",
          "height": 845
        },
        "id": "Rjy-BJ6x97bT",
        "outputId": "d9da5fc9-34fe-4e87-8fc8-bd304b511373"
      },
      "execution_count": null,
      "outputs": [
        {
          "output_type": "execute_result",
          "data": {
            "text/plain": [
              "<matplotlib.legend.Legend at 0x7eabe1ece0b0>"
            ]
          },
          "metadata": {},
          "execution_count": 16
        },
        {
          "output_type": "display_data",
          "data": {
            "text/plain": [
              "<Figure size 1000x1000 with 1 Axes>"
            ],
            "image/png": "[encoded data removed]"
          },
          "metadata": {}
        }
      ]
    },
    {
      "cell_type": "code",
      "source": [
        "#Create a model\n",
        "tf.random.set_seed(42)\n",
        "model = tf.keras.models.Sequential([\n",
        "    tf.keras.layers.Input(shape=(1,)),\n",
        "    tf.keras.layers.Dense(30, activation = \"relu\"),\n",
        "    tf.keras.layers.Dense(30, activation = None),\n",
        "    tf.keras.layers.Dense(30, activation = None),\n",
        "    tf.keras.layers.Dense(1)\n",
        "], name = \"Regression_model\")\n",
        "#Compile model\n",
        "model.compile (loss = tf.keras.losses.mae ,\n",
        "               optimizer = tf.keras.optimizers.Adam(learning_rate=0.01),\n",
        "               metrics = [\"mae\"])\n",
        "\n",
        "#Fit model\n",
        "model.fit(X_train , y_train , epochs = 100)"
      ],
      "metadata": {
        "colab": {
          "base_uri": "https://localhost:8080/"
        },
        "id": "uZCsWPsiogVZ",
        "outputId": "b8df9991-3f9b-45ee-da4d-362240e4bc76"
      },
      "execution_count": null,
      "outputs": [
        {
          "output_type": "stream",
          "name": "stdout",
          "text": [
            "Epoch 1/100\n",
            "5/5 [==============================] - 1s 4ms/step - loss: 54.6143 - mae: 54.6143\n",
            "Epoch 2/100\n",
            "5/5 [==============================] - 0s 3ms/step - loss: 17.9958 - mae: 17.9958\n",
            "Epoch 3/100\n",
            "5/5 [==============================] - 0s 3ms/step - loss: 8.7472 - mae: 8.7472\n",
            "Epoch 4/100\n",
            "5/5 [==============================] - 0s 3ms/step - loss: 5.2302 - mae: 5.2302\n",
            "Epoch 5/100\n",
            "5/5 [==============================] - 0s 3ms/step - loss: 5.0875 - mae: 5.0875\n",
            "Epoch 6/100\n",
            "5/5 [==============================] - 0s 4ms/step - loss: 4.6068 - mae: 4.6068\n",
            "Epoch 7/100\n",
            "5/5 [==============================] - 0s 4ms/step - loss: 4.8995 - mae: 4.8995\n",
            "Epoch 8/100\n",
            "5/5 [==============================] - 0s 3ms/step - loss: 4.3868 - mae: 4.3868\n",
            "Epoch 9/100\n",
            "5/5 [==============================] - 0s 3ms/step - loss: 4.7292 - mae: 4.7292\n",
            "Epoch 10/100\n",
            "5/5 [==============================] - 0s 4ms/step - loss: 4.1318 - mae: 4.1318\n",
            "Epoch 11/100\n",
            "5/5 [==============================] - 0s 3ms/step - loss: 5.4429 - mae: 5.4429\n",
            "Epoch 12/100\n",
            "5/5 [==============================] - 0s 3ms/step - loss: 4.1497 - mae: 4.1497\n",
            "Epoch 13/100\n",
            "5/5 [==============================] - 0s 5ms/step - loss: 3.3086 - mae: 3.3086\n",
            "Epoch 14/100\n",
            "5/5 [==============================] - 0s 3ms/step - loss: 2.3966 - mae: 2.3966\n",
            "Epoch 15/100\n",
            "5/5 [==============================] - 0s 4ms/step - loss: 2.5194 - mae: 2.5194\n",
            "Epoch 16/100\n",
            "5/5 [==============================] - 0s 3ms/step - loss: 2.8235 - mae: 2.8235\n",
            "Epoch 17/100\n",
            "5/5 [==============================] - 0s 4ms/step - loss: 2.6814 - mae: 2.6814\n",
            "Epoch 18/100\n",
            "5/5 [==============================] - 0s 3ms/step - loss: 4.1825 - mae: 4.1825\n",
            "Epoch 19/100\n",
            "5/5 [==============================] - 0s 4ms/step - loss: 5.6623 - mae: 5.6623\n",
            "Epoch 20/100\n",
            "5/5 [==============================] - 0s 4ms/step - loss: 4.3176 - mae: 4.3176\n",
            "Epoch 21/100\n",
            "5/5 [==============================] - 0s 3ms/step - loss: 3.6868 - mae: 3.6868\n",
            "Epoch 22/100\n",
            "5/5 [==============================] - 0s 3ms/step - loss: 3.8312 - mae: 3.8312\n",
            "Epoch 23/100\n",
            "5/5 [==============================] - 0s 3ms/step - loss: 3.0211 - mae: 3.0211\n",
            "Epoch 24/100\n",
            "5/5 [==============================] - 0s 3ms/step - loss: 1.0314 - mae: 1.0314\n",
            "Epoch 25/100\n",
            "5/5 [==============================] - 0s 4ms/step - loss: 1.6408 - mae: 1.6408\n",
            "Epoch 26/100\n",
            "5/5 [==============================] - 0s 5ms/step - loss: 0.9923 - mae: 0.9923\n",
            "Epoch 27/100\n",
            "5/5 [==============================] - 0s 4ms/step - loss: 3.5042 - mae: 3.5042\n",
            "Epoch 28/100\n",
            "5/5 [==============================] - 0s 4ms/step - loss: 3.3331 - mae: 3.3331\n",
            "Epoch 29/100\n",
            "5/5 [==============================] - 0s 3ms/step - loss: 5.9746 - mae: 5.9746\n",
            "Epoch 30/100\n",
            "5/5 [==============================] - 0s 4ms/step - loss: 3.9935 - mae: 3.9935\n",
            "Epoch 31/100\n",
            "5/5 [==============================] - 0s 4ms/step - loss: 6.2308 - mae: 6.2308\n",
            "Epoch 32/100\n",
            "5/5 [==============================] - 0s 4ms/step - loss: 7.4188 - mae: 7.4188\n",
            "Epoch 33/100\n",
            "5/5 [==============================] - 0s 4ms/step - loss: 7.8521 - mae: 7.8521\n",
            "Epoch 34/100\n",
            "5/5 [==============================] - 0s 3ms/step - loss: 3.2362 - mae: 3.2362\n",
            "Epoch 35/100\n",
            "5/5 [==============================] - 0s 3ms/step - loss: 2.9420 - mae: 2.9420\n",
            "Epoch 36/100\n",
            "5/5 [==============================] - 0s 3ms/step - loss: 2.7536 - mae: 2.7536\n",
            "Epoch 37/100\n",
            "5/5 [==============================] - 0s 3ms/step - loss: 2.0695 - mae: 2.0695\n",
            "Epoch 38/100\n",
            "5/5 [==============================] - 0s 3ms/step - loss: 2.5203 - mae: 2.5203\n",
            "Epoch 39/100\n",
            "5/5 [==============================] - 0s 4ms/step - loss: 4.0292 - mae: 4.0292\n",
            "Epoch 40/100\n",
            "5/5 [==============================] - 0s 3ms/step - loss: 5.2707 - mae: 5.2707\n",
            "Epoch 41/100\n",
            "5/5 [==============================] - 0s 3ms/step - loss: 3.0978 - mae: 3.0978\n",
            "Epoch 42/100\n",
            "5/5 [==============================] - 0s 3ms/step - loss: 4.9202 - mae: 4.9202\n",
            "Epoch 43/100\n",
            "5/5 [==============================] - 0s 4ms/step - loss: 7.5813 - mae: 7.5813\n",
            "Epoch 44/100\n",
            "5/5 [==============================] - 0s 3ms/step - loss: 6.2864 - mae: 6.2864\n",
            "Epoch 45/100\n",
            "5/5 [==============================] - 0s 3ms/step - loss: 2.4900 - mae: 2.4900\n",
            "Epoch 46/100\n",
            "5/5 [==============================] - 0s 3ms/step - loss: 3.4257 - mae: 3.4257\n",
            "Epoch 47/100\n",
            "5/5 [==============================] - 0s 3ms/step - loss: 3.4138 - mae: 3.4138\n",
            "Epoch 48/100\n",
            "5/5 [==============================] - 0s 3ms/step - loss: 2.5716 - mae: 2.5716\n",
            "Epoch 49/100\n",
            "5/5 [==============================] - 0s 3ms/step - loss: 2.8210 - mae: 2.8210\n",
            "Epoch 50/100\n",
            "5/5 [==============================] - 0s 3ms/step - loss: 2.5842 - mae: 2.5842\n",
            "Epoch 51/100\n",
            "5/5 [==============================] - 0s 3ms/step - loss: 2.0000 - mae: 2.0000\n",
            "Epoch 52/100\n",
            "5/5 [==============================] - 0s 3ms/step - loss: 3.4701 - mae: 3.4701\n",
            "Epoch 53/100\n",
            "5/5 [==============================] - 0s 4ms/step - loss: 3.8676 - mae: 3.8676\n",
            "Epoch 54/100\n",
            "5/5 [==============================] - 0s 3ms/step - loss: 6.0504 - mae: 6.0504\n",
            "Epoch 55/100\n",
            "5/5 [==============================] - 0s 3ms/step - loss: 3.2033 - mae: 3.2033\n",
            "Epoch 56/100\n",
            "5/5 [==============================] - 0s 3ms/step - loss: 4.2285 - mae: 4.2285\n",
            "Epoch 57/100\n",
            "5/5 [==============================] - 0s 3ms/step - loss: 6.0613 - mae: 6.0613\n",
            "Epoch 58/100\n",
            "5/5 [==============================] - 0s 3ms/step - loss: 6.9166 - mae: 6.9166\n",
            "Epoch 59/100\n",
            "5/5 [==============================] - 0s 3ms/step - loss: 6.4383 - mae: 6.4383\n",
            "Epoch 60/100\n",
            "5/5 [==============================] - 0s 3ms/step - loss: 6.8683 - mae: 6.8683\n",
            "Epoch 61/100\n",
            "5/5 [==============================] - 0s 3ms/step - loss: 6.8968 - mae: 6.8968\n",
            "Epoch 62/100\n",
            "5/5 [==============================] - 0s 4ms/step - loss: 4.8655 - mae: 4.8655\n",
            "Epoch 63/100\n",
            "5/5 [==============================] - 0s 3ms/step - loss: 2.4755 - mae: 2.4755\n",
            "Epoch 64/100\n",
            "5/5 [==============================] - 0s 3ms/step - loss: 1.8759 - mae: 1.8759\n",
            "Epoch 65/100\n",
            "5/5 [==============================] - 0s 3ms/step - loss: 3.2596 - mae: 3.2596\n",
            "Epoch 66/100\n",
            "5/5 [==============================] - 0s 3ms/step - loss: 4.2482 - mae: 4.2482\n",
            "Epoch 67/100\n",
            "5/5 [==============================] - 0s 3ms/step - loss: 3.1418 - mae: 3.1418\n",
            "Epoch 68/100\n",
            "5/5 [==============================] - 0s 4ms/step - loss: 2.3044 - mae: 2.3044\n",
            "Epoch 69/100\n",
            "5/5 [==============================] - 0s 3ms/step - loss: 1.8486 - mae: 1.8486\n",
            "Epoch 70/100\n",
            "5/5 [==============================] - 0s 4ms/step - loss: 2.3112 - mae: 2.3112\n",
            "Epoch 71/100\n",
            "5/5 [==============================] - 0s 4ms/step - loss: 3.8945 - mae: 3.8945\n",
            "Epoch 72/100\n",
            "5/5 [==============================] - 0s 3ms/step - loss: 4.0055 - mae: 4.0055\n",
            "Epoch 73/100\n",
            "5/5 [==============================] - 0s 3ms/step - loss: 4.9942 - mae: 4.9942\n",
            "Epoch 74/100\n",
            "5/5 [==============================] - 0s 4ms/step - loss: 6.3162 - mae: 6.3162\n",
            "Epoch 75/100\n",
            "5/5 [==============================] - 0s 5ms/step - loss: 4.2002 - mae: 4.2002\n",
            "Epoch 76/100\n",
            "5/5 [==============================] - 0s 4ms/step - loss: 3.2239 - mae: 3.2239\n",
            "Epoch 77/100\n",
            "5/5 [==============================] - 0s 3ms/step - loss: 1.9542 - mae: 1.9542\n",
            "Epoch 78/100\n",
            "5/5 [==============================] - 0s 3ms/step - loss: 2.5853 - mae: 2.5853\n",
            "Epoch 79/100\n",
            "5/5 [==============================] - 0s 3ms/step - loss: 2.4840 - mae: 2.4840\n",
            "Epoch 80/100\n",
            "5/5 [==============================] - 0s 3ms/step - loss: 4.6011 - mae: 4.6011\n",
            "Epoch 81/100\n",
            "5/5 [==============================] - 0s 3ms/step - loss: 4.5872 - mae: 4.5872\n",
            "Epoch 82/100\n",
            "5/5 [==============================] - 0s 4ms/step - loss: 4.8214 - mae: 4.8214\n",
            "Epoch 83/100\n",
            "5/5 [==============================] - 0s 3ms/step - loss: 4.2157 - mae: 4.2157\n",
            "Epoch 84/100\n",
            "5/5 [==============================] - 0s 4ms/step - loss: 0.9956 - mae: 0.9956\n",
            "Epoch 85/100\n",
            "5/5 [==============================] - 0s 3ms/step - loss: 1.5049 - mae: 1.5049\n",
            "Epoch 86/100\n",
            "5/5 [==============================] - 0s 3ms/step - loss: 2.2637 - mae: 2.2637\n",
            "Epoch 87/100\n",
            "5/5 [==============================] - 0s 4ms/step - loss: 1.6589 - mae: 1.6589\n",
            "Epoch 88/100\n",
            "5/5 [==============================] - 0s 3ms/step - loss: 2.9792 - mae: 2.9792\n",
            "Epoch 89/100\n",
            "5/5 [==============================] - 0s 3ms/step - loss: 3.3789 - mae: 3.3789\n",
            "Epoch 90/100\n",
            "5/5 [==============================] - 0s 3ms/step - loss: 2.3098 - mae: 2.3098\n",
            "Epoch 91/100\n",
            "5/5 [==============================] - 0s 4ms/step - loss: 4.4114 - mae: 4.4114\n",
            "Epoch 92/100\n",
            "5/5 [==============================] - 0s 4ms/step - loss: 4.4483 - mae: 4.4483\n",
            "Epoch 93/100\n",
            "5/5 [==============================] - 0s 3ms/step - loss: 7.4770 - mae: 7.4770\n",
            "Epoch 94/100\n",
            "5/5 [==============================] - 0s 3ms/step - loss: 3.6676 - mae: 3.6676\n",
            "Epoch 95/100\n",
            "5/5 [==============================] - 0s 3ms/step - loss: 3.1146 - mae: 3.1146\n",
            "Epoch 96/100\n",
            "5/5 [==============================] - 0s 3ms/step - loss: 3.1735 - mae: 3.1735\n",
            "Epoch 97/100\n",
            "5/5 [==============================] - 0s 4ms/step - loss: 2.8441 - mae: 2.8441\n",
            "Epoch 98/100\n",
            "5/5 [==============================] - 0s 3ms/step - loss: 2.8124 - mae: 2.8124\n",
            "Epoch 99/100\n",
            "5/5 [==============================] - 0s 3ms/step - loss: 1.9302 - mae: 1.9302\n",
            "Epoch 100/100\n",
            "5/5 [==============================] - 0s 3ms/step - loss: 2.5578 - mae: 2.5578\n"
          ]
        },
        {
          "output_type": "execute_result",
          "data": {
            "text/plain": [
              "<keras.src.callbacks.History at 0x7eabe1d805e0>"
            ]
          },
          "metadata": {},
          "execution_count": 17
        }
      ]
    },
    {
      "cell_type": "code",
      "source": [
        "model.summary()"
      ],
      "metadata": {
        "colab": {
          "base_uri": "https://localhost:8080/"
        },
        "id": "lmPOyJU6tOgp",
        "outputId": "cc0fc2a2-8cd4-47cc-a1e6-68dc2e08914d"
      },
      "execution_count": null,
      "outputs": [
        {
          "output_type": "stream",
          "name": "stdout",
          "text": [
            "Model: \"Regression_model\"\n",
            "_________________________________________________________________\n",
            " Layer (type)                Output Shape              Param #   \n",
            "=================================================================\n",
            " dense_5 (Dense)             (None, 30)                60        \n",
            "                                                                 \n",
            " dense_6 (Dense)             (None, 30)                930       \n",
            "                                                                 \n",
            " dense_7 (Dense)             (None, 30)                930       \n",
            "                                                                 \n",
            " dense_8 (Dense)             (None, 1)                 31        \n",
            "                                                                 \n",
            "=================================================================\n",
            "Total params: 1951 (7.62 KB)\n",
            "Trainable params: 1951 (7.62 KB)\n",
            "Non-trainable params: 0 (0.00 Byte)\n",
            "_________________________________________________________________\n"
          ]
        }
      ]
    },
    {
      "cell_type": "code",
      "source": [
        "from tensorflow.keras.utils import plot_model\n",
        "plot_model(model=model, show_shapes = True)"
      ],
      "metadata": {
        "colab": {
          "base_uri": "https://localhost:8080/",
          "height": 532
        },
        "id": "5RBvaEgetfeg",
        "outputId": "ec5b3258-0e7d-4df3-f3bf-23ef7165642b"
      },
      "execution_count": null,
      "outputs": [
        {
          "output_type": "execute_result",
          "data": {
            "image/png": "[encoded data removed]",
            "text/plain": [
              "<IPython.core.display.Image object>"
            ]
          },
          "metadata": {},
          "execution_count": 19
        }
      ]
    },
    {
      "cell_type": "code",
      "source": [
        "y_pred = model.predict(X_val)\n",
        "y_pred.squeeze()"
      ],
      "metadata": {
        "colab": {
          "base_uri": "https://localhost:8080/"
        },
        "id": "hopVaeczrm82",
        "outputId": "5dd26342-7fbe-4f9c-b96a-68be68972ca7"
      },
      "execution_count": null,
      "outputs": [
        {
          "output_type": "stream",
          "name": "stdout",
          "text": [
            "1/1 [==============================] - 0s 68ms/step\n"
          ]
        },
        {
          "output_type": "execute_result",
          "data": {
            "text/plain": [
              "array([162.09677, 164.00308, 165.90936, 167.81566, 169.72195, 171.62811,\n",
              "       173.5341 , 175.44016, 177.3462 , 179.25226, 181.1583 , 183.06436,\n",
              "       184.97038, 186.8764 , 188.78246, 190.68849, 192.59454, 194.50056,\n",
              "       196.4066 , 198.31267], dtype=float32)"
            ]
          },
          "metadata": {},
          "execution_count": 20
        }
      ]
    },
    {
      "cell_type": "code",
      "source": [
        "plt.figure(figsize = (10,10))\n",
        "plt.scatter(X_train, y_train, c=\"red\",label=\"Training data\")\n",
        "plt.scatter(X_val, y_val, c=\"orange\",label=\"Validating data\")\n",
        "plt.scatter(X_test, y_test, c=\"blue\",label=\"Testing data\")\n",
        "plt.scatter(X_val, y_pred, c=\"green\",label=\"Predicted data\")\n",
        "plt.legend()"
      ],
      "metadata": {
        "colab": {
          "base_uri": "https://localhost:8080/",
          "height": 845
        },
        "id": "jjZXtisByh5c",
        "outputId": "49492bdc-1486-4142-de29-299be4165f7f"
      },
      "execution_count": null,
      "outputs": [
        {
          "output_type": "execute_result",
          "data": {
            "text/plain": [
              "<matplotlib.legend.Legend at 0x7eabe193d840>"
            ]
          },
          "metadata": {},
          "execution_count": 21
        },
        {
          "output_type": "display_data",
          "data": {
            "text/plain": [
              "<Figure size 1000x1000 with 1 Axes>"
            ],
            "image/png": "[encoded data removed]"
          },
          "metadata": {}
        }
      ]
    },
    {
      "cell_type": "code",
      "source": [
        "#Evaluate model on test\n",
        "model.evaluate(X_test, y_test)"
      ],
      "metadata": {
        "colab": {
          "base_uri": "https://localhost:8080/"
        },
        "id": "DfdjTOwZxjrU",
        "outputId": "c8d7bf72-1178-4a33-c283-378370064531"
      },
      "execution_count": null,
      "outputs": [
        {
          "output_type": "stream",
          "name": "stdout",
          "text": [
            "1/1 [==============================] - 0s 154ms/step - loss: 6.9195 - mae: 6.9195\n"
          ]
        },
        {
          "output_type": "execute_result",
          "data": {
            "text/plain": [
              "[6.9194655418396, 6.9194655418396]"
            ]
          },
          "metadata": {},
          "execution_count": 22
        }
      ]
    },
    {
      "cell_type": "code",
      "source": [
        "tf.keras.metrics.mean_absolute_error(y_val,y_pred)"
      ],
      "metadata": {
        "colab": {
          "base_uri": "https://localhost:8080/"
        },
        "id": "cstmF5K12wgW",
        "outputId": "25c3ca25-325e-4e2b-9431-adab742f6188"
      },
      "execution_count": null,
      "outputs": [
        {
          "output_type": "execute_result",
          "data": {
            "text/plain": [
              "<tf.Tensor: shape=(20,), dtype=float32, numpy=\n",
              "array([26.903229, 24.996918, 23.090637, 21.184341, 19.278046, 17.534698,\n",
              "       15.972717, 14.591891, 13.392276, 12.373871, 11.536682, 10.880692,\n",
              "       10.405924, 10.11236 , 10.      , 10.06885 , 10.318909, 10.75017 ,\n",
              "       11.36264 , 12.156334], dtype=float32)>"
            ]
          },
          "metadata": {},
          "execution_count": 23
        }
      ]
    },
    {
      "cell_type": "code",
      "source": [
        "tf.keras.metrics.mean_squared_error(y_val,y_pred)"
      ],
      "metadata": {
        "colab": {
          "base_uri": "https://localhost:8080/"
        },
        "id": "ID6Vff1C3K0c",
        "outputId": "948799b9-b7a4-455b-b7e6-514278d36f19"
      },
      "execution_count": null,
      "outputs": [
        {
          "output_type": "execute_result",
          "data": {
            "text/plain": [
              "<tf.Tensor: shape=(20,), dtype=float32, numpy=\n",
              "array([856.7838 , 757.8459 , 666.17755, 581.77637, 504.64307, 434.78247,\n",
              "       372.19397, 316.8694 , 268.81088, 228.01846, 194.49234, 168.2318 ,\n",
              "       149.23782, 137.50967, 133.04733, 135.85101, 145.92075, 163.25623,\n",
              "       187.85773, 219.7258 ], dtype=float32)>"
            ]
          },
          "metadata": {},
          "execution_count": 24
        }
      ]
    },
    {
      "cell_type": "markdown",
      "source": [
        "# Saving Model"
      ],
      "metadata": {
        "id": "62uBeYMDXS9r"
      }
    },
    {
      "cell_type": "code",
      "source": [
        "model.save(\"regression_model\")"
      ],
      "metadata": {
        "id": "m7JqwUAuXVhq"
      },
      "execution_count": null,
      "outputs": []
    },
    {
      "cell_type": "code",
      "source": [
        "model.save(\"regression_model.h5\")"
      ],
      "metadata": {
        "colab": {
          "base_uri": "https://localhost:8080/"
        },
        "id": "hiwzzFn9ZFyT",
        "outputId": "4317d7af-c2ac-4207-d35e-7a1f0ed86afb"
      },
      "execution_count": null,
      "outputs": [
        {
          "output_type": "stream",
          "name": "stderr",
          "text": [
            "/usr/local/lib/python3.10/dist-packages/keras/src/engine/training.py:3103: UserWarning: You are saving your model as an HDF5 file via `model.save()`. This file format is considered legacy. We recommend using instead the native Keras format, e.g. `model.save('my_model.keras')`.\n",
            "  saving_api.save_model(\n"
          ]
        }
      ]
    },
    {
      "cell_type": "markdown",
      "source": [
        "# Loading Saved Model"
      ],
      "metadata": {
        "id": "oUdag1b9eY3-"
      }
    },
    {
      "cell_type": "code",
      "source": [
        "new_model = tf.keras.models.load_model(\"regression_model.h5\")"
      ],
      "metadata": {
        "id": "T0xlbq1paOGk"
      },
      "execution_count": null,
      "outputs": []
    },
    {
      "cell_type": "code",
      "source": [
        "new_model.summary()"
      ],
      "metadata": {
        "colab": {
          "base_uri": "https://localhost:8080/"
        },
        "id": "11I7Yq0oaamE",
        "outputId": "f1ce97f2-2d71-485d-8b45-6292d4201097"
      },
      "execution_count": null,
      "outputs": [
        {
          "output_type": "stream",
          "name": "stdout",
          "text": [
            "Model: \"Regression_model\"\n",
            "_________________________________________________________________\n",
            " Layer (type)                Output Shape              Param #   \n",
            "=================================================================\n",
            " dense_5 (Dense)             (None, 30)                60        \n",
            "                                                                 \n",
            " dense_6 (Dense)             (None, 30)                930       \n",
            "                                                                 \n",
            " dense_7 (Dense)             (None, 30)                930       \n",
            "                                                                 \n",
            " dense_8 (Dense)             (None, 1)                 31        \n",
            "                                                                 \n",
            "=================================================================\n",
            "Total params: 1951 (7.62 KB)\n",
            "Trainable params: 1951 (7.62 KB)\n",
            "Non-trainable params: 0 (0.00 Byte)\n",
            "_________________________________________________________________\n"
          ]
        }
      ]
    },
    {
      "cell_type": "code",
      "source": [
        "y_pred_new_model = new_model.predict([X_val])"
      ],
      "metadata": {
        "colab": {
          "base_uri": "https://localhost:8080/"
        },
        "id": "TYMOSvZTa6zN",
        "outputId": "53f8e680-c0b6-49ff-8197-6b674ff23b7e"
      },
      "execution_count": null,
      "outputs": [
        {
          "output_type": "stream",
          "name": "stdout",
          "text": [
            "1/1 [==============================] - 0s 79ms/step\n"
          ]
        }
      ]
    },
    {
      "cell_type": "code",
      "source": [
        "y_pred_new_model.squeeze()"
      ],
      "metadata": {
        "colab": {
          "base_uri": "https://localhost:8080/"
        },
        "id": "nvcdh3UbbJn0",
        "outputId": "7a38e5b5-0fab-465e-f7f3-457fcdc19204"
      },
      "execution_count": null,
      "outputs": [
        {
          "output_type": "execute_result",
          "data": {
            "text/plain": [
              "array([162.09677, 164.00308, 165.90936, 167.81566, 169.72195, 171.62811,\n",
              "       173.5341 , 175.44016, 177.3462 , 179.25226, 181.1583 , 183.06436,\n",
              "       184.97038, 186.8764 , 188.78246, 190.68849, 192.59454, 194.50056,\n",
              "       196.4066 , 198.31267], dtype=float32)"
            ]
          },
          "metadata": {},
          "execution_count": 30
        }
      ]
    },
    {
      "cell_type": "code",
      "source": [
        "new_model.evaluate(X_test,y_test)"
      ],
      "metadata": {
        "colab": {
          "base_uri": "https://localhost:8080/"
        },
        "id": "ZIfyaKR7bTDB",
        "outputId": "93f668b7-2700-4e37-8b2f-54004bac6b24"
      },
      "execution_count": null,
      "outputs": [
        {
          "output_type": "stream",
          "name": "stdout",
          "text": [
            "1/1 [==============================] - 0s 126ms/step - loss: 6.9195 - mae: 6.9195\n"
          ]
        },
        {
          "output_type": "execute_result",
          "data": {
            "text/plain": [
              "[6.9194655418396, 6.9194655418396]"
            ]
          },
          "metadata": {},
          "execution_count": 31
        }
      ]
    },
    {
      "cell_type": "code",
      "source": [
        "tf.keras.metrics.mean_absolute_error(y_val,y_pred_new_model)"
      ],
      "metadata": {
        "colab": {
          "base_uri": "https://localhost:8080/"
        },
        "id": "CYknAnJcckf-",
        "outputId": "58bf9e00-217c-4828-9d54-5e72fb426e72"
      },
      "execution_count": null,
      "outputs": [
        {
          "output_type": "execute_result",
          "data": {
            "text/plain": [
              "<tf.Tensor: shape=(20,), dtype=float32, numpy=\n",
              "array([26.903229, 24.996918, 23.090637, 21.184341, 19.278046, 17.534698,\n",
              "       15.972717, 14.591891, 13.392276, 12.373871, 11.536682, 10.880692,\n",
              "       10.405924, 10.11236 , 10.      , 10.06885 , 10.318909, 10.75017 ,\n",
              "       11.36264 , 12.156334], dtype=float32)>"
            ]
          },
          "metadata": {},
          "execution_count": 32
        }
      ]
    },
    {
      "cell_type": "code",
      "source": [
        "tf.keras.metrics.mean_absolute_error(y_val,y_pred_new_model)"
      ],
      "metadata": {
        "colab": {
          "base_uri": "https://localhost:8080/"
        },
        "id": "a23DMk_Ic21G",
        "outputId": "8d987252-2c26-4e10-a287-c406c2e364a3"
      },
      "execution_count": null,
      "outputs": [
        {
          "output_type": "execute_result",
          "data": {
            "text/plain": [
              "<tf.Tensor: shape=(20,), dtype=float32, numpy=\n",
              "array([26.903229, 24.996918, 23.090637, 21.184341, 19.278046, 17.534698,\n",
              "       15.972717, 14.591891, 13.392276, 12.373871, 11.536682, 10.880692,\n",
              "       10.405924, 10.11236 , 10.      , 10.06885 , 10.318909, 10.75017 ,\n",
              "       11.36264 , 12.156334], dtype=float32)>"
            ]
          },
          "metadata": {},
          "execution_count": 33
        }
      ]
    },
    {
      "cell_type": "code",
      "source": [
        "(y_pred == y_pred_new_model).squeeze()"
      ],
      "metadata": {
        "colab": {
          "base_uri": "https://localhost:8080/"
        },
        "id": "04n7HASFc761",
        "outputId": "0ddfca7f-439d-4d56-f753-815a0d30ecaf"
      },
      "execution_count": null,
      "outputs": [
        {
          "output_type": "execute_result",
          "data": {
            "text/plain": [
              "array([ True,  True,  True,  True,  True,  True,  True,  True,  True,\n",
              "        True,  True,  True,  True,  True,  True,  True,  True,  True,\n",
              "        True,  True])"
            ]
          },
          "metadata": {},
          "execution_count": 34
        }
      ]
    },
    {
      "cell_type": "markdown",
      "source": [
        "# Download a model"
      ],
      "metadata": {
        "id": "O8NAQeUriJCN"
      }
    },
    {
      "cell_type": "code",
      "source": [
        "from google.colab import files\n",
        "files.download(\"/content/regression_model.h5\")"
      ],
      "metadata": {
        "colab": {
          "base_uri": "https://localhost:8080/",
          "height": 16
        },
        "id": "VwC1c-7aghkm",
        "outputId": "f6bc45b1-30c5-4009-bdca-82376e51df53"
      },
      "execution_count": null,
      "outputs": [
        {
          "output_type": "display_data",
          "data": {
            "text/plain": [
              "<IPython.core.display.Javascript object>"
            ],
            "application/javascript": [
              "\n",
              "    async function download(id, filename, size) {\n",
              "      if (!google.colab.kernel.accessAllowed) {\n",
              "        return;\n",
              "      }\n",
              "      const div = document.createElement('div');\n",
              "      const label = document.createElement('label');\n",
              "      label.textContent = `Downloading \"${filename}\": `;\n",
              "      div.appendChild(label);\n",
              "      const progress = document.createElement('progress');\n",
              "      progress.max = size;\n",
              "      div.appendChild(progress);\n",
              "      document.body.appendChild(div);\n",
              "\n",
              "      const buffers = [];\n",
              "      let downloaded = 0;\n",
              "\n",
              "      const channel = await google.colab.kernel.comms.open(id);\n",
              "      // Send a message to notify the kernel that we're ready.\n",
              "      channel.send({})\n",
              "\n",
              "      for await (const message of channel.messages) {\n",
              "        // Send a message to notify the kernel that we're ready.\n",
              "        channel.send({})\n",
              "        if (message.buffers) {\n",
              "          for (const buffer of message.buffers) {\n",
              "            buffers.push(buffer);\n",
              "            downloaded += buffer.byteLength;\n",
              "            progress.value = downloaded;\n",
              "          }\n",
              "        }\n",
              "      }\n",
              "      const blob = new Blob(buffers, {type: 'application/binary'});\n",
              "      const a = document.createElement('a');\n",
              "      a.href = window.URL.createObjectURL(blob);\n",
              "      a.download = filename;\n",
              "      div.appendChild(a);\n",
              "      a.click();\n",
              "      div.remove();\n",
              "    }\n",
              "  "
            ]
          },
          "metadata": {}
        },
        {
          "output_type": "display_data",
          "data": {
            "text/plain": [
              "<IPython.core.display.Javascript object>"
            ],
            "application/javascript": [
              "download(\"download_fdb67e09-81a9-44c2-b683-c0f17e996028\", \"regression_model.h5\", 63976)"
            ]
          },
          "metadata": {}
        }
      ]
    },
    {
      "cell_type": "code",
      "source": [
        "! cp \"/content/regression_model.h5\" \"/content/drive/MyDrive/Colab Notebooks\""
      ],
      "metadata": {
        "id": "Ea_TqJGfg8U6"
      },
      "execution_count": null,
      "outputs": []
    },
    {
      "cell_type": "code",
      "source": [
        "! ls \"/content/drive/MyDrive/Colab Notebooks\""
      ],
      "metadata": {
        "colab": {
          "base_uri": "https://localhost:8080/"
        },
        "id": "NqlHrUeVhWC7",
        "outputId": "33035602-9baf-44c9-d908-0bc1d21d6423"
      },
      "execution_count": null,
      "outputs": [
        {
          "output_type": "stream",
          "name": "stdout",
          "text": [
            "00_tensorflow_fundementals.ipynb\t\t\t   house_price_prediction\n",
            "01_nueral_network_regression_tensorflow.ipynb\t\t   house_price_prediction.h5\n",
            "03_nueral_network_regression_house_price_prediction.ipynb  regression_model.h5\n"
          ]
        }
      ]
    }
  ]
}