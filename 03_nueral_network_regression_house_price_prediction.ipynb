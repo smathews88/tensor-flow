{
  "nbformat": 4,
  "nbformat_minor": 0,
  "metadata": {
    "colab": {
      "provenance": [],
      "mount_file_id": "10h4_6U9whU4akj6DIF3jR5_Xb4p0xMQE",
      "authorship_tag": "ABX9TyOCAUaGoVKlIcQNoUMJdLBH",
      "include_colab_link": true
    },
    "kernelspec": {
      "name": "python3",
      "display_name": "Python 3"
    },
    "language_info": {
      "name": "python"
    }
  },
  "cells": [
    {
      "cell_type": "markdown",
      "metadata": {
        "id": "view-in-github",
        "colab_type": "text"
      },
      "source": [
        "<a href=\"https://colab.research.google.com/github/smathews88/tensor-flow/blob/main/03_nueral_network_regression_house_price_prediction.ipynb\" target=\"_parent\"><img src=\"https://colab.research.google.com/assets/colab-badge.svg\" alt=\"Open In Colab\"/></a>"
      ]
    },
    {
      "cell_type": "markdown",
      "source": [
        "# **Create a model for house price predict**"
      ],
      "metadata": {
        "id": "TTUUbr87pC2j"
      }
    },
    {
      "cell_type": "markdown",
      "source": [
        "# Read Data"
      ],
      "metadata": {
        "id": "Zv6heRSVraWI"
      }
    },
    {
      "cell_type": "code",
      "source": [
        "#import libraries\n",
        "import pandas as pd\n",
        "import numpy as np\n",
        "import matplotlib.pyplot as plt\n",
        "import tensorflow as tf\n",
        "from sklearn.model_selection import train_test_split\n",
        "from sklearn.compose import make_column_transformer\n",
        "from sklearn.preprocessing import OneHotEncoder, MinMaxScaler\n",
        "from tensorflow.keras.utils import plot_model\n",
        "\n",
        "tf.random.set_seed(42)\n"
      ],
      "metadata": {
        "id": "Goly_W_JqGQV"
      },
      "execution_count": null,
      "outputs": []
    },
    {
      "cell_type": "code",
      "source": [
        "#Read data from csv file\n",
        "\n",
        "df_house = pd.read_csv(\"/content/Housing.csv\")\n",
        "df_house.head()"
      ],
      "metadata": {
        "colab": {
          "base_uri": "https://localhost:8080/",
          "height": 201
        },
        "id": "Hn-5LyiQpQB9",
        "outputId": "6d49b567-8499-47cc-e3f5-9eb0973e0fa6"
      },
      "execution_count": null,
      "outputs": [
        {
          "output_type": "execute_result",
          "data": {
            "text/plain": [
              "      price  area  bedrooms  bathrooms  stories mainroad guestroom basement  \\\n",
              "0  13300000  7420         4          2        3      yes        no       no   \n",
              "1  12250000  8960         4          4        4      yes        no       no   \n",
              "2  12250000  9960         3          2        2      yes        no      yes   \n",
              "3  12215000  7500         4          2        2      yes        no      yes   \n",
              "4  11410000  7420         4          1        2      yes       yes      yes   \n",
              "\n",
              "  hotwaterheating airconditioning  parking prefarea furnishingstatus  \n",
              "0              no             yes        2      yes        furnished  \n",
              "1              no             yes        3       no        furnished  \n",
              "2              no              no        2      yes   semi-furnished  \n",
              "3              no             yes        3      yes        furnished  \n",
              "4              no             yes        2       no        furnished  "
            ],
            "text/html": [
              "\n",
              "  <div id=\"df-13c53994-0e7d-45b0-9491-9e4f741e6c4e\" class=\"colab-df-container\">\n",
              "    <div>\n",
              "<style scoped>\n",
              "    .dataframe tbody tr th:only-of-type {\n",
              "        vertical-align: middle;\n",
              "    }\n",
              "\n",
              "    .dataframe tbody tr th {\n",
              "        vertical-align: top;\n",
              "    }\n",
              "\n",
              "    .dataframe thead th {\n",
              "        text-align: right;\n",
              "    }\n",
              "</style>\n",
              "<table border=\"1\" class=\"dataframe\">\n",
              "  <thead>\n",
              "    <tr style=\"text-align: right;\">\n",
              "      <th></th>\n",
              "      <th>price</th>\n",
              "      <th>area</th>\n",
              "      <th>bedrooms</th>\n",
              "      <th>bathrooms</th>\n",
              "      <th>stories</th>\n",
              "      <th>mainroad</th>\n",
              "      <th>guestroom</th>\n",
              "      <th>basement</th>\n",
              "      <th>hotwaterheating</th>\n",
              "      <th>airconditioning</th>\n",
              "      <th>parking</th>\n",
              "      <th>prefarea</th>\n",
              "      <th>furnishingstatus</th>\n",
              "    </tr>\n",
              "  </thead>\n",
              "  <tbody>\n",
              "    <tr>\n",
              "      <th>0</th>\n",
              "      <td>13300000</td>\n",
              "      <td>7420</td>\n",
              "      <td>4</td>\n",
              "      <td>2</td>\n",
              "      <td>3</td>\n",
              "      <td>yes</td>\n",
              "      <td>no</td>\n",
              "      <td>no</td>\n",
              "      <td>no</td>\n",
              "      <td>yes</td>\n",
              "      <td>2</td>\n",
              "      <td>yes</td>\n",
              "      <td>furnished</td>\n",
              "    </tr>\n",
              "    <tr>\n",
              "      <th>1</th>\n",
              "      <td>12250000</td>\n",
              "      <td>8960</td>\n",
              "      <td>4</td>\n",
              "      <td>4</td>\n",
              "      <td>4</td>\n",
              "      <td>yes</td>\n",
              "      <td>no</td>\n",
              "      <td>no</td>\n",
              "      <td>no</td>\n",
              "      <td>yes</td>\n",
              "      <td>3</td>\n",
              "      <td>no</td>\n",
              "      <td>furnished</td>\n",
              "    </tr>\n",
              "    <tr>\n",
              "      <th>2</th>\n",
              "      <td>12250000</td>\n",
              "      <td>9960</td>\n",
              "      <td>3</td>\n",
              "      <td>2</td>\n",
              "      <td>2</td>\n",
              "      <td>yes</td>\n",
              "      <td>no</td>\n",
              "      <td>yes</td>\n",
              "      <td>no</td>\n",
              "      <td>no</td>\n",
              "      <td>2</td>\n",
              "      <td>yes</td>\n",
              "      <td>semi-furnished</td>\n",
              "    </tr>\n",
              "    <tr>\n",
              "      <th>3</th>\n",
              "      <td>12215000</td>\n",
              "      <td>7500</td>\n",
              "      <td>4</td>\n",
              "      <td>2</td>\n",
              "      <td>2</td>\n",
              "      <td>yes</td>\n",
              "      <td>no</td>\n",
              "      <td>yes</td>\n",
              "      <td>no</td>\n",
              "      <td>yes</td>\n",
              "      <td>3</td>\n",
              "      <td>yes</td>\n",
              "      <td>furnished</td>\n",
              "    </tr>\n",
              "    <tr>\n",
              "      <th>4</th>\n",
              "      <td>11410000</td>\n",
              "      <td>7420</td>\n",
              "      <td>4</td>\n",
              "      <td>1</td>\n",
              "      <td>2</td>\n",
              "      <td>yes</td>\n",
              "      <td>yes</td>\n",
              "      <td>yes</td>\n",
              "      <td>no</td>\n",
              "      <td>yes</td>\n",
              "      <td>2</td>\n",
              "      <td>no</td>\n",
              "      <td>furnished</td>\n",
              "    </tr>\n",
              "  </tbody>\n",
              "</table>\n",
              "</div>\n",
              "    <div class=\"colab-df-buttons\">\n",
              "\n",
              "  <div class=\"colab-df-container\">\n",
              "    <button class=\"colab-df-convert\" onclick=\"convertToInteractive('df-13c53994-0e7d-45b0-9491-9e4f741e6c4e')\"\n",
              "            title=\"Convert this dataframe to an interactive table.\"\n",
              "            style=\"display:none;\">\n",
              "\n",
              "  <svg xmlns=\"http://www.w3.org/2000/svg\" height=\"24px\" viewBox=\"0 -960 960 960\">\n",
              "    <path d=\"M120-120v-720h720v720H120Zm60-500h600v-160H180v160Zm220 220h160v-160H400v160Zm0 220h160v-160H400v160ZM180-400h160v-160H180v160Zm440 0h160v-160H620v160ZM180-180h160v-160H180v160Zm440 0h160v-160H620v160Z\"/>\n",
              "  </svg>\n",
              "    </button>\n",
              "\n",
              "  <style>\n",
              "    .colab-df-container {\n",
              "      display:flex;\n",
              "      gap: 12px;\n",
              "    }\n",
              "\n",
              "    .colab-df-convert {\n",
              "      background-color: #E8F0FE;\n",
              "      border: none;\n",
              "      border-radius: 50%;\n",
              "      cursor: pointer;\n",
              "      display: none;\n",
              "      fill: #1967D2;\n",
              "      height: 32px;\n",
              "      padding: 0 0 0 0;\n",
              "      width: 32px;\n",
              "    }\n",
              "\n",
              "    .colab-df-convert:hover {\n",
              "      background-color: #E2EBFA;\n",
              "      box-shadow: 0px 1px 2px rgba(60, 64, 67, 0.3), 0px 1px 3px 1px rgba(60, 64, 67, 0.15);\n",
              "      fill: #174EA6;\n",
              "    }\n",
              "\n",
              "    .colab-df-buttons div {\n",
              "      margin-bottom: 4px;\n",
              "    }\n",
              "\n",
              "    [theme=dark] .colab-df-convert {\n",
              "      background-color: #3B4455;\n",
              "      fill: #D2E3FC;\n",
              "    }\n",
              "\n",
              "    [theme=dark] .colab-df-convert:hover {\n",
              "      background-color: #434B5C;\n",
              "      box-shadow: 0px 1px 3px 1px rgba(0, 0, 0, 0.15);\n",
              "      filter: drop-shadow(0px 1px 2px rgba(0, 0, 0, 0.3));\n",
              "      fill: #FFFFFF;\n",
              "    }\n",
              "  </style>\n",
              "\n",
              "    <script>\n",
              "      const buttonEl =\n",
              "        document.querySelector('#df-13c53994-0e7d-45b0-9491-9e4f741e6c4e button.colab-df-convert');\n",
              "      buttonEl.style.display =\n",
              "        google.colab.kernel.accessAllowed ? 'block' : 'none';\n",
              "\n",
              "      async function convertToInteractive(key) {\n",
              "        const element = document.querySelector('#df-13c53994-0e7d-45b0-9491-9e4f741e6c4e');\n",
              "        const dataTable =\n",
              "          await google.colab.kernel.invokeFunction('convertToInteractive',\n",
              "                                                    [key], {});\n",
              "        if (!dataTable) return;\n",
              "\n",
              "        const docLinkHtml = 'Like what you see? Visit the ' +\n",
              "          '<a target=\"_blank\" href=https://colab.research.google.com/notebooks/data_table.ipynb>data table notebook</a>'\n",
              "          + ' to learn more about interactive tables.';\n",
              "        element.innerHTML = '';\n",
              "        dataTable['output_type'] = 'display_data';\n",
              "        await google.colab.output.renderOutput(dataTable, element);\n",
              "        const docLink = document.createElement('div');\n",
              "        docLink.innerHTML = docLinkHtml;\n",
              "        element.appendChild(docLink);\n",
              "      }\n",
              "    </script>\n",
              "  </div>\n",
              "\n",
              "\n",
              "<div id=\"df-02b1454f-6eee-4ff6-ae05-597a887d8091\">\n",
              "  <button class=\"colab-df-quickchart\" onclick=\"quickchart('df-02b1454f-6eee-4ff6-ae05-597a887d8091')\"\n",
              "            title=\"Suggest charts\"\n",
              "            style=\"display:none;\">\n",
              "\n",
              "<svg xmlns=\"http://www.w3.org/2000/svg\" height=\"24px\"viewBox=\"0 0 24 24\"\n",
              "     width=\"24px\">\n",
              "    <g>\n",
              "        <path d=\"M19 3H5c-1.1 0-2 .9-2 2v14c0 1.1.9 2 2 2h14c1.1 0 2-.9 2-2V5c0-1.1-.9-2-2-2zM9 17H7v-7h2v7zm4 0h-2V7h2v10zm4 0h-2v-4h2v4z\"/>\n",
              "    </g>\n",
              "</svg>\n",
              "  </button>\n",
              "\n",
              "<style>\n",
              "  .colab-df-quickchart {\n",
              "      --bg-color: #E8F0FE;\n",
              "      --fill-color: #1967D2;\n",
              "      --hover-bg-color: #E2EBFA;\n",
              "      --hover-fill-color: #174EA6;\n",
              "      --disabled-fill-color: #AAA;\n",
              "      --disabled-bg-color: #DDD;\n",
              "  }\n",
              "\n",
              "  [theme=dark] .colab-df-quickchart {\n",
              "      --bg-color: #3B4455;\n",
              "      --fill-color: #D2E3FC;\n",
              "      --hover-bg-color: #434B5C;\n",
              "      --hover-fill-color: #FFFFFF;\n",
              "      --disabled-bg-color: #3B4455;\n",
              "      --disabled-fill-color: #666;\n",
              "  }\n",
              "\n",
              "  .colab-df-quickchart {\n",
              "    background-color: var(--bg-color);\n",
              "    border: none;\n",
              "    border-radius: 50%;\n",
              "    cursor: pointer;\n",
              "    display: none;\n",
              "    fill: var(--fill-color);\n",
              "    height: 32px;\n",
              "    padding: 0;\n",
              "    width: 32px;\n",
              "  }\n",
              "\n",
              "  .colab-df-quickchart:hover {\n",
              "    background-color: var(--hover-bg-color);\n",
              "    box-shadow: 0 1px 2px rgba(60, 64, 67, 0.3), 0 1px 3px 1px rgba(60, 64, 67, 0.15);\n",
              "    fill: var(--button-hover-fill-color);\n",
              "  }\n",
              "\n",
              "  .colab-df-quickchart-complete:disabled,\n",
              "  .colab-df-quickchart-complete:disabled:hover {\n",
              "    background-color: var(--disabled-bg-color);\n",
              "    fill: var(--disabled-fill-color);\n",
              "    box-shadow: none;\n",
              "  }\n",
              "\n",
              "  .colab-df-spinner {\n",
              "    border: 2px solid var(--fill-color);\n",
              "    border-color: transparent;\n",
              "    border-bottom-color: var(--fill-color);\n",
              "    animation:\n",
              "      spin 1s steps(1) infinite;\n",
              "  }\n",
              "\n",
              "  @keyframes spin {\n",
              "    0% {\n",
              "      border-color: transparent;\n",
              "      border-bottom-color: var(--fill-color);\n",
              "      border-left-color: var(--fill-color);\n",
              "    }\n",
              "    20% {\n",
              "      border-color: transparent;\n",
              "      border-left-color: var(--fill-color);\n",
              "      border-top-color: var(--fill-color);\n",
              "    }\n",
              "    30% {\n",
              "      border-color: transparent;\n",
              "      border-left-color: var(--fill-color);\n",
              "      border-top-color: var(--fill-color);\n",
              "      border-right-color: var(--fill-color);\n",
              "    }\n",
              "    40% {\n",
              "      border-color: transparent;\n",
              "      border-right-color: var(--fill-color);\n",
              "      border-top-color: var(--fill-color);\n",
              "    }\n",
              "    60% {\n",
              "      border-color: transparent;\n",
              "      border-right-color: var(--fill-color);\n",
              "    }\n",
              "    80% {\n",
              "      border-color: transparent;\n",
              "      border-right-color: var(--fill-color);\n",
              "      border-bottom-color: var(--fill-color);\n",
              "    }\n",
              "    90% {\n",
              "      border-color: transparent;\n",
              "      border-bottom-color: var(--fill-color);\n",
              "    }\n",
              "  }\n",
              "</style>\n",
              "\n",
              "  <script>\n",
              "    async function quickchart(key) {\n",
              "      const quickchartButtonEl =\n",
              "        document.querySelector('#' + key + ' button');\n",
              "      quickchartButtonEl.disabled = true;  // To prevent multiple clicks.\n",
              "      quickchartButtonEl.classList.add('colab-df-spinner');\n",
              "      try {\n",
              "        const charts = await google.colab.kernel.invokeFunction(\n",
              "            'suggestCharts', [key], {});\n",
              "      } catch (error) {\n",
              "        console.error('Error during call to suggestCharts:', error);\n",
              "      }\n",
              "      quickchartButtonEl.classList.remove('colab-df-spinner');\n",
              "      quickchartButtonEl.classList.add('colab-df-quickchart-complete');\n",
              "    }\n",
              "    (() => {\n",
              "      let quickchartButtonEl =\n",
              "        document.querySelector('#df-02b1454f-6eee-4ff6-ae05-597a887d8091 button');\n",
              "      quickchartButtonEl.style.display =\n",
              "        google.colab.kernel.accessAllowed ? 'block' : 'none';\n",
              "    })();\n",
              "  </script>\n",
              "</div>\n",
              "\n",
              "    </div>\n",
              "  </div>\n"
            ],
            "application/vnd.google.colaboratory.intrinsic+json": {
              "type": "dataframe",
              "variable_name": "df_house",
              "summary": "{\n  \"name\": \"df_house\",\n  \"rows\": 545,\n  \"fields\": [\n    {\n      \"column\": \"price\",\n      \"properties\": {\n        \"dtype\": \"number\",\n        \"std\": 1870439,\n        \"min\": 1750000,\n        \"max\": 13300000,\n        \"num_unique_values\": 219,\n        \"samples\": [\n          3773000,\n          5285000,\n          1820000\n        ],\n        \"semantic_type\": \"\",\n        \"description\": \"\"\n      }\n    },\n    {\n      \"column\": \"area\",\n      \"properties\": {\n        \"dtype\": \"number\",\n        \"std\": 2170,\n        \"min\": 1650,\n        \"max\": 16200,\n        \"num_unique_values\": 284,\n        \"samples\": [\n          6000,\n          2684,\n          5360\n        ],\n        \"semantic_type\": \"\",\n        \"description\": \"\"\n      }\n    },\n    {\n      \"column\": \"bedrooms\",\n      \"properties\": {\n        \"dtype\": \"number\",\n        \"std\": 0,\n        \"min\": 1,\n        \"max\": 6,\n        \"num_unique_values\": 6,\n        \"samples\": [\n          4,\n          3,\n          1\n        ],\n        \"semantic_type\": \"\",\n        \"description\": \"\"\n      }\n    },\n    {\n      \"column\": \"bathrooms\",\n      \"properties\": {\n        \"dtype\": \"number\",\n        \"std\": 0,\n        \"min\": 1,\n        \"max\": 4,\n        \"num_unique_values\": 4,\n        \"samples\": [\n          4,\n          3,\n          2\n        ],\n        \"semantic_type\": \"\",\n        \"description\": \"\"\n      }\n    },\n    {\n      \"column\": \"stories\",\n      \"properties\": {\n        \"dtype\": \"number\",\n        \"std\": 0,\n        \"min\": 1,\n        \"max\": 4,\n        \"num_unique_values\": 4,\n        \"samples\": [\n          4,\n          1,\n          3\n        ],\n        \"semantic_type\": \"\",\n        \"description\": \"\"\n      }\n    },\n    {\n      \"column\": \"mainroad\",\n      \"properties\": {\n        \"dtype\": \"category\",\n        \"num_unique_values\": 2,\n        \"samples\": [\n          \"no\",\n          \"yes\"\n        ],\n        \"semantic_type\": \"\",\n        \"description\": \"\"\n      }\n    },\n    {\n      \"column\": \"guestroom\",\n      \"properties\": {\n        \"dtype\": \"category\",\n        \"num_unique_values\": 2,\n        \"samples\": [\n          \"yes\",\n          \"no\"\n        ],\n        \"semantic_type\": \"\",\n        \"description\": \"\"\n      }\n    },\n    {\n      \"column\": \"basement\",\n      \"properties\": {\n        \"dtype\": \"category\",\n        \"num_unique_values\": 2,\n        \"samples\": [\n          \"yes\",\n          \"no\"\n        ],\n        \"semantic_type\": \"\",\n        \"description\": \"\"\n      }\n    },\n    {\n      \"column\": \"hotwaterheating\",\n      \"properties\": {\n        \"dtype\": \"category\",\n        \"num_unique_values\": 2,\n        \"samples\": [\n          \"yes\",\n          \"no\"\n        ],\n        \"semantic_type\": \"\",\n        \"description\": \"\"\n      }\n    },\n    {\n      \"column\": \"airconditioning\",\n      \"properties\": {\n        \"dtype\": \"category\",\n        \"num_unique_values\": 2,\n        \"samples\": [\n          \"no\",\n          \"yes\"\n        ],\n        \"semantic_type\": \"\",\n        \"description\": \"\"\n      }\n    },\n    {\n      \"column\": \"parking\",\n      \"properties\": {\n        \"dtype\": \"number\",\n        \"std\": 0,\n        \"min\": 0,\n        \"max\": 3,\n        \"num_unique_values\": 4,\n        \"samples\": [\n          3,\n          1\n        ],\n        \"semantic_type\": \"\",\n        \"description\": \"\"\n      }\n    },\n    {\n      \"column\": \"prefarea\",\n      \"properties\": {\n        \"dtype\": \"category\",\n        \"num_unique_values\": 2,\n        \"samples\": [\n          \"no\",\n          \"yes\"\n        ],\n        \"semantic_type\": \"\",\n        \"description\": \"\"\n      }\n    },\n    {\n      \"column\": \"furnishingstatus\",\n      \"properties\": {\n        \"dtype\": \"category\",\n        \"num_unique_values\": 3,\n        \"samples\": [\n          \"furnished\",\n          \"semi-furnished\"\n        ],\n        \"semantic_type\": \"\",\n        \"description\": \"\"\n      }\n    }\n  ]\n}"
            }
          },
          "metadata": {},
          "execution_count": 141
        }
      ]
    },
    {
      "cell_type": "markdown",
      "source": [
        "# Visualize Data"
      ],
      "metadata": {
        "id": "mK77aQxxqd5v"
      }
    },
    {
      "cell_type": "code",
      "source": [
        "#plot numeric feature\n",
        "df_house[\"bedrooms\"].plot(kind = \"hist\")"
      ],
      "metadata": {
        "colab": {
          "base_uri": "https://localhost:8080/",
          "height": 445
        },
        "id": "F3Y-QKnhpcDI",
        "outputId": "b775551b-edca-42f8-b1b8-ede0ec670c43"
      },
      "execution_count": null,
      "outputs": [
        {
          "output_type": "execute_result",
          "data": {
            "text/plain": [
              "<Axes: ylabel='Frequency'>"
            ]
          },
          "metadata": {},
          "execution_count": 142
        },
        {
          "output_type": "display_data",
          "data": {
            "text/plain": [
              "<Figure size 640x480 with 1 Axes>"
            ],
            "image/png": "[encoded data removed]"
          },
          "metadata": {}
        }
      ]
    },
    {
      "cell_type": "code",
      "source": [
        "#Visualize how price is impacted by number of area\n",
        "plt.scatter(df_house[\"area\"],df_house[\"price\"])"
      ],
      "metadata": {
        "colab": {
          "base_uri": "https://localhost:8080/",
          "height": 461
        },
        "id": "LkizUgfHq0ZB",
        "outputId": "b8b7ebbb-d326-4626-8148-f408e9abfef8"
      },
      "execution_count": null,
      "outputs": [
        {
          "output_type": "execute_result",
          "data": {
            "text/plain": [
              "<matplotlib.collections.PathCollection at 0x7eaaf3f200a0>"
            ]
          },
          "metadata": {},
          "execution_count": 143
        },
        {
          "output_type": "display_data",
          "data": {
            "text/plain": [
              "<Figure size 640x480 with 1 Axes>"
            ],
            "image/png": "[encoded data removed]"
          },
          "metadata": {}
        }
      ]
    },
    {
      "cell_type": "code",
      "source": [
        "#Visualize how price is impacted by number of area\n",
        "plt.scatter(df_house[\"bedrooms\"],df_house[\"price\"])"
      ],
      "metadata": {
        "colab": {
          "base_uri": "https://localhost:8080/",
          "height": 461
        },
        "id": "yENrA6VirMfG",
        "outputId": "3e576649-3096-4b4f-c59d-234d34ba422e"
      },
      "execution_count": null,
      "outputs": [
        {
          "output_type": "execute_result",
          "data": {
            "text/plain": [
              "<matplotlib.collections.PathCollection at 0x7eaaf3e4c730>"
            ]
          },
          "metadata": {},
          "execution_count": 144
        },
        {
          "output_type": "display_data",
          "data": {
            "text/plain": [
              "<Figure size 640x480 with 1 Axes>"
            ],
            "image/png": "[encoded data removed]"
          },
          "metadata": {}
        }
      ]
    },
    {
      "cell_type": "markdown",
      "source": [
        "# Pre-processing data\n",
        "\n",
        "1.   One hot encoding - for boolean or categorical values\n",
        "2.   Normalization and Standardization for numerical values"
      ],
      "metadata": {
        "id": "EvjqWXvjpdUv"
      }
    },
    {
      "cell_type": "code",
      "source": [
        "#create input and output from dataset\n",
        "\n",
        "X = df_house.drop(\"price\", axis = 1)\n",
        "y = df_house[\"price\"]\n",
        "X.shape, y.shape"
      ],
      "metadata": {
        "colab": {
          "base_uri": "https://localhost:8080/"
        },
        "id": "__bdZ5uApzso",
        "outputId": "4279193c-1bf9-43fa-df10-fb1bfb9b7e18"
      },
      "execution_count": null,
      "outputs": [
        {
          "output_type": "execute_result",
          "data": {
            "text/plain": [
              "((545, 12), (545,))"
            ]
          },
          "metadata": {},
          "execution_count": 145
        }
      ]
    },
    {
      "cell_type": "code",
      "source": [
        "#split data into train test and validation set\n",
        "X_train, X_test, y_train, y_test  = train_test_split(X, y, test_size=0.2, random_state=42, shuffle = True)\n",
        "\n",
        "X_train, X_val, y_train, y_val  = train_test_split(X_train, y_train, test_size=0.25, random_state=42, shuffle = True)\n",
        "\n",
        "X_train.shape, X_val.shape, X_test.shape"
      ],
      "metadata": {
        "colab": {
          "base_uri": "https://localhost:8080/"
        },
        "id": "P7uZ_sfhrxYO",
        "outputId": "fe86c821-1c64-4fb1-8b19-f6cafaf1d31d"
      },
      "execution_count": null,
      "outputs": [
        {
          "output_type": "execute_result",
          "data": {
            "text/plain": [
              "((327, 12), (109, 12), (109, 12))"
            ]
          },
          "metadata": {},
          "execution_count": 146
        }
      ]
    },
    {
      "cell_type": "code",
      "source": [
        "df_house.columns"
      ],
      "metadata": {
        "colab": {
          "base_uri": "https://localhost:8080/"
        },
        "id": "nhJrgp7SskDL",
        "outputId": "33fe6130-d1b9-4d41-9034-d9c3aee761b6"
      },
      "execution_count": null,
      "outputs": [
        {
          "output_type": "execute_result",
          "data": {
            "text/plain": [
              "Index(['price', 'area', 'bedrooms', 'bathrooms', 'stories', 'mainroad',\n",
              "       'guestroom', 'basement', 'hotwaterheating', 'airconditioning',\n",
              "       'parking', 'prefarea', 'furnishingstatus'],\n",
              "      dtype='object')"
            ]
          },
          "metadata": {},
          "execution_count": 147
        }
      ]
    },
    {
      "cell_type": "code",
      "source": [
        "#One hot encoding to replace boolean and categorical data\n",
        "#Normalization to scale numerical values to range from 0 to 1\n",
        "\n",
        "ct = make_column_transformer (\n",
        "    (MinMaxScaler(),['area', 'bedrooms', 'bathrooms', 'stories', 'parking' ]),\n",
        "    (OneHotEncoder(), ['mainroad', 'guestroom', 'basement', 'hotwaterheating', 'airconditioning', 'prefarea', 'furnishingstatus'])\n",
        ")\n",
        "ct.fit(X_train)\n",
        "X_train_trans = ct.transform(X_train)\n",
        "X_test_trans = ct.transform(X_test)\n",
        "X_val_trans = ct.transform(X_val)\n",
        "X_train_trans, X_test_trans, X_val_trans\n",
        "X_train_trans.shape"
      ],
      "metadata": {
        "colab": {
          "base_uri": "https://localhost:8080/"
        },
        "id": "hdpq9UxBsdTQ",
        "outputId": "577eccfa-c140-44a7-c75b-61bf15109281"
      },
      "execution_count": null,
      "outputs": [
        {
          "output_type": "execute_result",
          "data": {
            "text/plain": [
              "(327, 20)"
            ]
          },
          "metadata": {},
          "execution_count": 148
        }
      ]
    },
    {
      "cell_type": "markdown",
      "source": [
        "# Create Model"
      ],
      "metadata": {
        "id": "2dKhDnjFtVut"
      }
    },
    {
      "cell_type": "code",
      "source": [
        "#Create a model\n",
        "model = tf.keras.Sequential(name = \"House_Price_Prediction\");\n",
        "model.add(tf.keras.layers.Dense(100, activation = tf.keras.activations.relu, name=\"Input_Layer\"))\n",
        "model.add(tf.keras.layers.Dense(100, activation = tf.keras.activations.relu))\n",
        "model.add(tf.keras.layers.Dense(1, activation = tf.keras.activations.relu, name=\"Output_Layer\"))"
      ],
      "metadata": {
        "id": "G3BPnEtqtYOG"
      },
      "execution_count": null,
      "outputs": []
    },
    {
      "cell_type": "markdown",
      "source": [
        "# Compile Model"
      ],
      "metadata": {
        "id": "xg-CrvGztg51"
      }
    },
    {
      "cell_type": "code",
      "source": [
        "#Create a model\n",
        "model.compile(loss = tf.keras.losses.mae,\n",
        "              optimizer = tf.keras.optimizers.Adam(learning_rate=.1),\n",
        "              metrics = tf.keras.metrics.mae)"
      ],
      "metadata": {
        "id": "rZe6kSUXtqhF"
      },
      "execution_count": null,
      "outputs": []
    },
    {
      "cell_type": "markdown",
      "source": [
        "# Fit Model"
      ],
      "metadata": {
        "id": "TmdpHFT1txNm"
      }
    },
    {
      "cell_type": "code",
      "source": [
        "#fit the model\n",
        "history = model.fit(X_train_trans,y_train, epochs = 20)"
      ],
      "metadata": {
        "colab": {
          "base_uri": "https://localhost:8080/"
        },
        "id": "zMRZ7CXOt5CL",
        "outputId": "d68a2163-2d0f-42b1-ff63-58c1012d696a"
      },
      "execution_count": null,
      "outputs": [
        {
          "output_type": "stream",
          "name": "stdout",
          "text": [
            "Epoch 1/20\n",
            "11/11 [==============================] - 1s 5ms/step - loss: 4708742.0000 - mean_absolute_error: 4708742.0000\n",
            "Epoch 2/20\n",
            "11/11 [==============================] - 0s 3ms/step - loss: 4614447.0000 - mean_absolute_error: 4614447.0000\n",
            "Epoch 3/20\n",
            "11/11 [==============================] - 0s 3ms/step - loss: 4117504.5000 - mean_absolute_error: 4117504.5000\n",
            "Epoch 4/20\n",
            "11/11 [==============================] - 0s 3ms/step - loss: 2603385.0000 - mean_absolute_error: 2603385.0000\n",
            "Epoch 5/20\n",
            "11/11 [==============================] - 0s 3ms/step - loss: 1316059.5000 - mean_absolute_error: 1316059.5000\n",
            "Epoch 6/20\n",
            "11/11 [==============================] - 0s 3ms/step - loss: 1116933.6250 - mean_absolute_error: 1116933.6250\n",
            "Epoch 7/20\n",
            "11/11 [==============================] - 0s 4ms/step - loss: 1012200.8125 - mean_absolute_error: 1012200.8125\n",
            "Epoch 8/20\n",
            "11/11 [==============================] - 0s 3ms/step - loss: 908597.6250 - mean_absolute_error: 908597.6250\n",
            "Epoch 9/20\n",
            "11/11 [==============================] - 0s 3ms/step - loss: 856742.5625 - mean_absolute_error: 856742.5625\n",
            "Epoch 10/20\n",
            "11/11 [==============================] - 0s 3ms/step - loss: 827279.4375 - mean_absolute_error: 827279.4375\n",
            "Epoch 11/20\n",
            "11/11 [==============================] - 0s 3ms/step - loss: 820520.9375 - mean_absolute_error: 820520.9375\n",
            "Epoch 12/20\n",
            "11/11 [==============================] - 0s 5ms/step - loss: 807960.1875 - mean_absolute_error: 807960.1875\n",
            "Epoch 13/20\n",
            "11/11 [==============================] - 0s 3ms/step - loss: 793617.5625 - mean_absolute_error: 793617.5625\n",
            "Epoch 14/20\n",
            "11/11 [==============================] - 0s 3ms/step - loss: 789698.1250 - mean_absolute_error: 789698.1250\n",
            "Epoch 15/20\n",
            "11/11 [==============================] - 0s 4ms/step - loss: 795997.5625 - mean_absolute_error: 795997.5625\n",
            "Epoch 16/20\n",
            "11/11 [==============================] - 0s 3ms/step - loss: 787128.2500 - mean_absolute_error: 787128.2500\n",
            "Epoch 17/20\n",
            "11/11 [==============================] - 0s 2ms/step - loss: 769182.0625 - mean_absolute_error: 769182.0625\n",
            "Epoch 18/20\n",
            "11/11 [==============================] - 0s 3ms/step - loss: 770611.8125 - mean_absolute_error: 770611.8125\n",
            "Epoch 19/20\n",
            "11/11 [==============================] - 0s 2ms/step - loss: 771990.8750 - mean_absolute_error: 771990.8750\n",
            "Epoch 20/20\n",
            "11/11 [==============================] - 0s 3ms/step - loss: 759523.3125 - mean_absolute_error: 759523.3125\n"
          ]
        }
      ]
    },
    {
      "cell_type": "code",
      "source": [
        "model.summary()"
      ],
      "metadata": {
        "colab": {
          "base_uri": "https://localhost:8080/"
        },
        "id": "IJLMj-5JyfPY",
        "outputId": "485c3282-65e9-40c5-d244-73e34bedf325"
      },
      "execution_count": null,
      "outputs": [
        {
          "output_type": "stream",
          "name": "stdout",
          "text": [
            "Model: \"House_Price_Prediction\"\n",
            "_________________________________________________________________\n",
            " Layer (type)                Output Shape              Param #   \n",
            "=================================================================\n",
            " Input_Layer (Dense)         (None, 100)               2100      \n",
            "                                                                 \n",
            " dense_4 (Dense)             (None, 100)               10100     \n",
            "                                                                 \n",
            " Output_Layer (Dense)        (None, 1)                 101       \n",
            "                                                                 \n",
            "=================================================================\n",
            "Total params: 12301 (48.05 KB)\n",
            "Trainable params: 12301 (48.05 KB)\n",
            "Non-trainable params: 0 (0.00 Byte)\n",
            "_________________________________________________________________\n"
          ]
        }
      ]
    },
    {
      "cell_type": "code",
      "source": [
        "plot_model(model=model, show_shapes = True)"
      ],
      "metadata": {
        "colab": {
          "base_uri": "https://localhost:8080/",
          "height": 421
        },
        "id": "9hf3S3uUvvvE",
        "outputId": "24d02063-1f5a-457a-e7b3-eff1c85d19c7"
      },
      "execution_count": null,
      "outputs": [
        {
          "output_type": "execute_result",
          "data": {
            "image/png": "[encoded data removed]",
            "text/plain": [
              "<IPython.core.display.Image object>"
            ]
          },
          "metadata": {},
          "execution_count": 153
        }
      ]
    },
    {
      "cell_type": "markdown",
      "source": [
        "# Evaluate Model"
      ],
      "metadata": {
        "id": "fmRc61MkuPwu"
      }
    },
    {
      "cell_type": "code",
      "source": [
        "y_pred_trans = model.predict(X_val_trans)\n",
        "y_pred_trans.squeeze()"
      ],
      "metadata": {
        "colab": {
          "base_uri": "https://localhost:8080/"
        },
        "id": "opCfywJVvBqm",
        "outputId": "fae7aede-f6ea-44dc-e16b-5a3e0f4ec28d"
      },
      "execution_count": null,
      "outputs": [
        {
          "output_type": "stream",
          "name": "stdout",
          "text": [
            "4/4 [==============================] - 0s 6ms/step\n"
          ]
        },
        {
          "output_type": "execute_result",
          "data": {
            "text/plain": [
              "array([5179576. , 3487935.5, 3252297.5, 4000449.8, 6050591. , 3888714.5,\n",
              "       4707094. , 5294674. , 6188913.5, 5815091. , 5352395.5, 5241190.5,\n",
              "       3660473. , 5679397.5, 3451773.5, 4174555. , 5997051. , 6159852. ,\n",
              "       5836163. , 3844406.5, 3612192.8, 4334347.5, 4563685.5, 4436683.5,\n",
              "       5946597.5, 5052928. , 4535384.5, 2415383.2, 5492673.5, 4757923.5,\n",
              "       3546257.8, 6407060.5, 4158258.8, 6746436. , 6241020.5, 5070999.5,\n",
              "       2838115. , 4933041. , 5901724.5, 3517484. , 3258752.2, 5209893. ,\n",
              "       6546722.5, 4055531. , 6057294. , 5497061. , 3820972.2, 4074777. ,\n",
              "       6412591.5, 3692001.5, 5620892. , 4940414.5, 3459657. , 6501064. ,\n",
              "       6737408.5, 6821637.5, 5611996. , 3983313. , 3728673.8, 3425815.8,\n",
              "       3685542.5, 5314169. , 4267134.5, 3403279.2, 3615046. , 3175832.8,\n",
              "       3334528.2, 4814171. , 3724738.8, 3498377.2, 4169826. , 6572828.5,\n",
              "       2803739.5, 5884384.5, 2332401.8, 5787162.5, 4863930.5, 5196290.5,\n",
              "       6703096. , 7696670.5, 4079686.5, 3338236.2, 4115546. , 4671784. ,\n",
              "       5780562. , 5927178. , 5516349.5, 7223224.5, 5629838.5, 3596022.8,\n",
              "       2888088.8, 3940157.8, 3062666.5, 2952607.5, 4863900.5, 4097435.8,\n",
              "       3331800. , 3898625.8, 4361129. , 3446801.5, 3175793.5, 4122632.2,\n",
              "       3616137.2, 3669111. , 3077399.5, 3153613.2, 5499452.5, 2864895.8,\n",
              "       4057432.2], dtype=float32)"
            ]
          },
          "metadata": {},
          "execution_count": 154
        }
      ]
    },
    {
      "cell_type": "code",
      "source": [
        "model.evaluate(X_test_trans, y_test)"
      ],
      "metadata": {
        "colab": {
          "base_uri": "https://localhost:8080/"
        },
        "id": "H0JvrGNzvPKz",
        "outputId": "5e87eeb4-4ca0-4fa8-edc8-7d5de9d88bd8"
      },
      "execution_count": null,
      "outputs": [
        {
          "output_type": "stream",
          "name": "stdout",
          "text": [
            "4/4 [==============================] - 0s 4ms/step - loss: 949972.5625 - mean_absolute_error: 949972.5625\n"
          ]
        },
        {
          "output_type": "execute_result",
          "data": {
            "text/plain": [
              "[949972.5625, 949972.5625]"
            ]
          },
          "metadata": {},
          "execution_count": 155
        }
      ]
    },
    {
      "cell_type": "code",
      "source": [
        "#find MAE\n",
        "tf.keras.metrics.mean_absolute_error(y_val,y_pred_trans)"
      ],
      "metadata": {
        "colab": {
          "base_uri": "https://localhost:8080/"
        },
        "id": "OKCx00aQxUOT",
        "outputId": "3eef37a8-8a21-4630-a0d9-25e3a27a052e"
      },
      "execution_count": null,
      "outputs": [
        {
          "output_type": "execute_result",
          "data": {
            "text/plain": [
              "<tf.Tensor: shape=(109,), dtype=float32, numpy=\n",
              "array([1461868.5, 1479873.1, 1622709.9, 1326154.6, 1886277.6, 1346013.8,\n",
              "       1344250.2, 1503132.8, 1974370.4, 1748163.9, 1526498.2, 1482357.1,\n",
              "       1404321.1, 1678223.5, 1499026.2, 1305610.1, 1852806.6, 1955443.1,\n",
              "       1759569.8, 1354550. , 1422750.9, 1302454.5, 1321319. , 1308152.8,\n",
              "       1821918.9, 1421606.8, 1317692.5, 2287912.8, 1588907. , 1353110.6,\n",
              "       1452127.1, 2123001.5, 1306955.5, 2376143.8, 2008311.5, 1427077.8,\n",
              "       1916958.1, 1389913.9, 1795983. , 1465383.6, 1618505.5, 1471603.4,\n",
              "       2225321.5, 1317564. , 1890521. , 1590959.9, 1359065.1, 1315104.6,\n",
              "       2126908.8, 1393618.8, 1649282.4, 1391740.1, 1494759. , 2191391.5,\n",
              "       2369269.8, 2435210.8, 1644956.8, 1328950.1, 1382198.2, 1513307. ,\n",
              "       1395811.2, 1510823.5, 1301661.5, 1526746.2, 1421572.8, 1673327.5,\n",
              "       1569963.9, 1363266.8, 1383317.2, 1474412.8, 1306000.8, 2244721.2,\n",
              "       1944911.9, 1785960.8, 2365908.5, 1733465.8, 1373476.1, 1467235.4,\n",
              "       2343141.8, 3170060. , 1314519. , 1567616.6, 1310619.1, 1338095.4,\n",
              "       1730014.1, 1810694.5, 1599984.8, 2760082.2, 1653632.5, 1429755.9,\n",
              "       1877987.6, 1336472.5, 1750148.9, 1828137.5, 1373469.8, 1312446.9,\n",
              "       1571690.9, 1344104.2, 1303579.2, 1501717.6, 1673353.9, 1309904.1,\n",
              "       1421122.2, 1401388.9, 1740011.2, 1688208.6, 1592078.6, 1896073.9,\n",
              "       1317267.5], dtype=float32)>"
            ]
          },
          "metadata": {},
          "execution_count": 156
        }
      ]
    },
    {
      "cell_type": "code",
      "source": [
        "#find MSE\n",
        "tf.keras.metrics.mean_squared_error(y_val,y_pred_trans)"
      ],
      "metadata": {
        "colab": {
          "base_uri": "https://localhost:8080/"
        },
        "id": "3RtFJ5NexrI1",
        "outputId": "775e8f07-2a3d-4899-9a06-025a30564f3e"
      },
      "execution_count": null,
      "outputs": [
        {
          "output_type": "execute_result",
          "data": {
            "text/plain": [
              "<tf.Tensor: shape=(109,), dtype=float32, numpy=\n",
              "array([3.1867632e+12, 4.3815002e+12, 5.0020609e+12, 3.4152131e+12,\n",
              "       4.8037123e+12, 3.5810962e+12, 2.9444276e+12, 3.3134262e+12,\n",
              "       5.2001075e+12, 4.2168673e+12, 3.3869228e+12, 3.2512737e+12,\n",
              "       3.9975413e+12, 3.9290992e+12, 4.4695206e+12, 3.2065011e+12,\n",
              "       4.6605533e+12, 5.1136498e+12, 4.2648582e+12, 3.6537898e+12,\n",
              "       4.0989829e+12, 3.0683019e+12, 2.9591971e+12, 3.0066200e+12,\n",
              "       4.5308938e+12, 3.0780062e+12, 2.9669715e+12, 8.1037414e+12,\n",
              "       3.5933140e+12, 2.9490652e+12, 4.2450504e+12, 5.9030220e+12,\n",
              "       3.2234652e+12, 7.1857676e+12, 5.3593558e+12, 3.0915628e+12,\n",
              "       6.3619706e+12, 3.0046117e+12, 4.4198537e+12, 4.3115185e+12,\n",
              "       4.9835829e+12, 3.2175562e+12, 6.4030135e+12, 3.3426272e+12,\n",
              "       4.8220393e+12, 3.6004034e+12, 3.6938250e+12, 3.3186956e+12,\n",
              "       5.9220809e+12, 3.9338126e+12, 3.8163872e+12, 3.0082959e+12,\n",
              "       4.4501083e+12, 6.2352633e+12, 7.1486648e+12, 7.5011855e+12,\n",
              "       3.7998488e+12, 3.4390331e+12, 3.8621888e+12, 4.5343153e+12,\n",
              "       3.9467069e+12, 3.3375036e+12, 3.1202101e+12, 4.5916634e+12,\n",
              "       4.0928587e+12, 5.2272992e+12, 4.7728888e+12, 2.9602207e+12,\n",
              "       3.8697448e+12, 4.3565703e+12, 3.2113694e+12, 6.5008011e+12,\n",
              "       6.4902576e+12, 4.3780234e+12, 8.4876119e+12, 4.1546290e+12,\n",
              "       2.9753638e+12, 3.2035129e+12, 7.0091250e+12, 1.2002825e+13,\n",
              "       3.3127093e+12, 4.7628739e+12, 3.2704477e+12, 2.9442467e+12,\n",
              "       4.1401477e+12, 4.4823452e+12, 3.6320303e+12, 9.3770356e+12,\n",
              "       3.8331802e+12, 4.1340001e+12, 6.1796878e+12, 3.5016210e+12,\n",
              "       5.5821059e+12, 5.9517389e+12, 2.9753533e+12, 3.2914693e+12,\n",
              "       4.7802755e+12, 3.5653723e+12, 3.0501361e+12, 4.4818267e+12,\n",
              "       5.2274177e+12, 3.2624010e+12, 4.0905212e+12, 3.9798838e+12,\n",
              "       5.5344638e+12, 5.2949428e+12, 3.6042847e+12, 6.2636651e+12,\n",
              "       3.3402307e+12], dtype=float32)>"
            ]
          },
          "metadata": {},
          "execution_count": 157
        }
      ]
    },
    {
      "cell_type": "code",
      "source": [
        "pd.DataFrame(history.history).plot()\n",
        "plt.ylabel(\"loss\")\n",
        "plt.xlabel(\"epochs\")"
      ],
      "metadata": {
        "colab": {
          "base_uri": "https://localhost:8080/",
          "height": 481
        },
        "id": "nSv3pZxax0JO",
        "outputId": "2cc9d442-81e3-4745-a8dc-db1294c40c36"
      },
      "execution_count": null,
      "outputs": [
        {
          "output_type": "execute_result",
          "data": {
            "text/plain": [
              "Text(0.5, 0, 'epochs')"
            ]
          },
          "metadata": {},
          "execution_count": 158
        },
        {
          "output_type": "display_data",
          "data": {
            "text/plain": [
              "<Figure size 640x480 with 1 Axes>"
            ],
            "image/png": "[encoded data removed]"
          },
          "metadata": {}
        }
      ]
    },
    {
      "cell_type": "markdown",
      "source": [
        "\n",
        "# Saving Model"
      ],
      "metadata": {
        "id": "ZpR_RqRnzAhX"
      }
    },
    {
      "cell_type": "code",
      "source": [
        "model.save(\"house_price_prediction\")"
      ],
      "metadata": {
        "id": "VBrU7mJ4zCDz"
      },
      "execution_count": null,
      "outputs": []
    },
    {
      "cell_type": "markdown",
      "source": [
        "# Load Model"
      ],
      "metadata": {
        "id": "YSDWTLnPzIIo"
      }
    },
    {
      "cell_type": "code",
      "source": [
        "new_model = tf.keras.models.load_model(\"house_price_prediction\")"
      ],
      "metadata": {
        "id": "7d5KOBozzFl_"
      },
      "execution_count": null,
      "outputs": []
    },
    {
      "cell_type": "code",
      "source": [
        "new_model.summary()"
      ],
      "metadata": {
        "colab": {
          "base_uri": "https://localhost:8080/"
        },
        "id": "fOXeTS2XzUYi",
        "outputId": "36f814f0-fc17-4bf7-d21b-782f07f6c884"
      },
      "execution_count": null,
      "outputs": [
        {
          "output_type": "stream",
          "name": "stdout",
          "text": [
            "Model: \"House_Price_Prediction\"\n",
            "_________________________________________________________________\n",
            " Layer (type)                Output Shape              Param #   \n",
            "=================================================================\n",
            " Input_Layer (Dense)         (None, 100)               2100      \n",
            "                                                                 \n",
            " dense_4 (Dense)             (None, 100)               10100     \n",
            "                                                                 \n",
            " Output_Layer (Dense)        (None, 1)                 101       \n",
            "                                                                 \n",
            "=================================================================\n",
            "Total params: 12301 (48.05 KB)\n",
            "Trainable params: 12301 (48.05 KB)\n",
            "Non-trainable params: 0 (0.00 Byte)\n",
            "_________________________________________________________________\n"
          ]
        }
      ]
    },
    {
      "cell_type": "code",
      "source": [
        "y_pred_new_model = new_model.predict([X_val_trans])"
      ],
      "metadata": {
        "colab": {
          "base_uri": "https://localhost:8080/"
        },
        "id": "mpvmfETxzWKR",
        "outputId": "41c3fc86-a3f6-4402-b3c5-30055358ddf3"
      },
      "execution_count": null,
      "outputs": [
        {
          "output_type": "stream",
          "name": "stdout",
          "text": [
            "4/4 [==============================] - 0s 3ms/step\n"
          ]
        }
      ]
    },
    {
      "cell_type": "code",
      "source": [
        "y_pred_new_model.squeeze()"
      ],
      "metadata": {
        "colab": {
          "base_uri": "https://localhost:8080/"
        },
        "id": "G_BsZDJfze2N",
        "outputId": "b3717467-dc6d-41e8-c765-a156a9cc16b6"
      },
      "execution_count": null,
      "outputs": [
        {
          "output_type": "execute_result",
          "data": {
            "text/plain": [
              "array([5179576. , 3487935.5, 3252297.5, 4000449.8, 6050591. , 3888714.5,\n",
              "       4707094. , 5294674. , 6188913.5, 5815091. , 5352395.5, 5241190.5,\n",
              "       3660473. , 5679397.5, 3451773.5, 4174555. , 5997051. , 6159852. ,\n",
              "       5836163. , 3844406.5, 3612192.8, 4334347.5, 4563685.5, 4436683.5,\n",
              "       5946597.5, 5052928. , 4535384.5, 2415383.2, 5492673.5, 4757923.5,\n",
              "       3546257.8, 6407060.5, 4158258.8, 6746436. , 6241020.5, 5070999.5,\n",
              "       2838115. , 4933041. , 5901724.5, 3517484. , 3258752.2, 5209893. ,\n",
              "       6546722.5, 4055531. , 6057294. , 5497061. , 3820972.2, 4074777. ,\n",
              "       6412591.5, 3692001.5, 5620892. , 4940414.5, 3459657. , 6501064. ,\n",
              "       6737408.5, 6821637.5, 5611996. , 3983313. , 3728673.8, 3425815.8,\n",
              "       3685542.5, 5314169. , 4267134.5, 3403279.2, 3615046. , 3175832.8,\n",
              "       3334528.2, 4814171. , 3724738.8, 3498377.2, 4169826. , 6572828.5,\n",
              "       2803739.5, 5884384.5, 2332401.8, 5787162.5, 4863930.5, 5196290.5,\n",
              "       6703096. , 7696670.5, 4079686.5, 3338236.2, 4115546. , 4671784. ,\n",
              "       5780562. , 5927178. , 5516349.5, 7223224.5, 5629838.5, 3596022.8,\n",
              "       2888088.8, 3940157.8, 3062666.5, 2952607.5, 4863900.5, 4097435.8,\n",
              "       3331800. , 3898625.8, 4361129. , 3446801.5, 3175793.5, 4122632.2,\n",
              "       3616137.2, 3669111. , 3077399.5, 3153613.2, 5499452.5, 2864895.8,\n",
              "       4057432.2], dtype=float32)"
            ]
          },
          "metadata": {},
          "execution_count": 163
        }
      ]
    },
    {
      "cell_type": "markdown",
      "source": [
        "# Download and save model to google drive"
      ],
      "metadata": {
        "id": "vmix40ggzttC"
      }
    },
    {
      "cell_type": "code",
      "source": [
        "! cp -r \"/content/house_price_prediction\" \"/content/drive/MyDrive/Colab Notebooks\""
      ],
      "metadata": {
        "id": "okS1E3PJzzEJ"
      },
      "execution_count": null,
      "outputs": []
    },
    {
      "cell_type": "code",
      "source": [
        "! ls \"/content/drive/MyDrive/Colab Notebooks\""
      ],
      "metadata": {
        "colab": {
          "base_uri": "https://localhost:8080/"
        },
        "id": "g-4ew1rr0CLr",
        "outputId": "80ca84be-6bc4-46d1-c696-5492747dcb05"
      },
      "execution_count": null,
      "outputs": [
        {
          "output_type": "stream",
          "name": "stdout",
          "text": [
            "00_tensorflow_fundementals.ipynb\t\t\t   house_price_prediction\n",
            "01_nueral_network_regression_tensorflow.ipynb\t\t   house_price_prediction.h5\n",
            "03_nueral_network_regression_house_price_prediction.ipynb  regression_model.h5\n"
          ]
        }
      ]
    }
  ]
}